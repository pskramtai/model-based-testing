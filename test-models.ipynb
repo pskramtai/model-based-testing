{
 "cells": [
  {
   "cell_type": "code",
   "execution_count": 4,
   "metadata": {},
   "outputs": [],
   "source": [
    "using GATlab\n"
   ]
  },
  {
   "cell_type": "code",
   "execution_count": 5,
   "metadata": {},
   "outputs": [
    {
     "ename": "UndefVarError",
     "evalue": "UndefVarError: `ObExpr` not defined",
     "output_type": "error",
     "traceback": [
      "UndefVarError: `ObExpr` not defined\n",
      "\n",
      "Stacktrace:\n",
      " [1] getproperty(x::Module, f::Symbol)\n",
      "   @ Base .\\Base.jl:31\n",
      " [2] top-level scope\n",
      "   @ C:\\Users\\Paulius\\.julia\\packages\\GATlab\\M0FGy\\src\\models\\SymbolicModels.jl:307"
     ]
    }
   ],
   "source": [
    "@symbolic_model CategoryExprs{ObExpr, HomExpr} ThCategory begin\n",
    "end\n",
    "A, B, C, D = [ Ob(CategoryExprs.Ob, X) for X in [:A, :B, :C, :D] ]\n",
    "f, g, h = Hom(:f, A, B), Hom(:g, B, C), Hom(:h, C, D)\n",
    "compose(compose(f,g),h)"
   ]
  },
  {
   "cell_type": "code",
   "execution_count": 6,
   "metadata": {},
   "outputs": [
    {
     "data": {
      "text/plain": [
       "3-element Vector{Int64}:\n",
       " 1\n",
       " 2\n",
       " 2"
      ]
     },
     "metadata": {},
     "output_type": "display_data"
    }
   ],
   "source": [
    "a = ThCategory.Hom[FinSetC()]([1,2,2]::Vector{Int}, 3::Int, 2::Int)"
   ]
  },
  {
   "cell_type": "code",
   "execution_count": 7,
   "metadata": {},
   "outputs": [
    {
     "ename": "MethodError",
     "evalue": "MethodError: no method matching Ob(::GATlab.Syntax.TheoryInterface.WithModel{FinSetC}; context::Nothing)\n\nClosest candidates are:\n  Ob(::GATlab.Syntax.TheoryInterface.WithModel{FinSetC}, !Matched::Int64; context)\n   @ GATlab none:0\n  Ob(!Matched::GATlab.Syntax.TheoryInterface.WithModel{OpC{ObT, HomT, C}}, !Matched::ObT; context) where {ObT, HomT, C}\n   @ GATlab none:0\n  Ob(!Matched::GATlab.Syntax.TheoryInterface.WithModel{SliceC{ObT, HomT, C}}, !Matched::SliceOb{ObT, HomT}; context) where {ObT, HomT, C}\n   @ GATlab none:0\n  ...\n",
     "output_type": "error",
     "traceback": [
      "MethodError: no method matching Ob(::GATlab.Syntax.TheoryInterface.WithModel{FinSetC}; context::Nothing)\n",
      "\n",
      "Closest candidates are:\n",
      "  Ob(::GATlab.Syntax.TheoryInterface.WithModel{FinSetC}, !Matched::Int64; context)\n",
      "   @ GATlab none:0\n",
      "  Ob(!Matched::GATlab.Syntax.TheoryInterface.WithModel{OpC{ObT, HomT, C}}, !Matched::ObT; context) where {ObT, HomT, C}\n",
      "   @ GATlab none:0\n",
      "  Ob(!Matched::GATlab.Syntax.TheoryInterface.WithModel{SliceC{ObT, HomT, C}}, !Matched::SliceOb{ObT, HomT}; context) where {ObT, HomT, C}\n",
      "   @ GATlab none:0\n",
      "  ...\n",
      "\n",
      "\n",
      "Stacktrace:\n",
      " [1] (::GATlab.Stdlib.StdTheories.var\"#1#3\"{GATlab.Stdlib.StdTheories.var\"#1#2#4\"{FinSetC}})(; context::Nothing)\n",
      "   @ GATlab.Stdlib.StdTheories C:\\Users\\Paulius\\.julia\\packages\\GATlab\\M0FGy\\src\\syntax\\TheoryInterface.jl:139\n",
      " [2] (::GATlab.Stdlib.StdTheories.var\"#1#3\"{GATlab.Stdlib.StdTheories.var\"#1#2#4\"{FinSetC}})()\n",
      "   @ GATlab.Stdlib.StdTheories C:\\Users\\Paulius\\.julia\\packages\\GATlab\\M0FGy\\src\\syntax\\TheoryInterface.jl:139\n",
      " [3] top-level scope\n",
      "   @ c:\\Users\\Paulius\\Documents\\kursinis\\julia\\try.ipynb:1"
     ]
    }
   ],
   "source": [
    "b = ThCategory.Ob[FinSetC()]()"
   ]
  },
  {
   "cell_type": "code",
   "execution_count": 8,
   "metadata": {},
   "outputs": [
    {
     "data": {
      "text/plain": [
       "1"
      ]
     },
     "metadata": {},
     "output_type": "display_data"
    }
   ],
   "source": [
    "ThCategory.Ob[FinSetC()](1)"
   ]
  },
  {
   "cell_type": "code",
   "execution_count": 9,
   "metadata": {},
   "outputs": [
    {
     "ename": "UndefVarError",
     "evalue": "UndefVarError: `Ob` not defined",
     "output_type": "error",
     "traceback": [
      "UndefVarError: `Ob` not defined\n",
      "\n",
      "Stacktrace:\n",
      " [1] top-level scope\n",
      "   @ c:\\Users\\Paulius\\Documents\\kursinis\\julia\\try.ipynb:1"
     ]
    }
   ],
   "source": [
    "@withmodel FinSetC() (Ob, Hom, id, compose, dom, codom) begin\n",
    "    \n",
    "c= Ob(1)\n",
    "d= Ob(2)\n",
    "Hom([2], c::Int, d::Int)\n",
    "\n",
    "end\n",
    "\n"
   ]
  },
  {
   "cell_type": "code",
   "execution_count": 10,
   "metadata": {},
   "outputs": [
    {
     "ename": "MethodError",
     "evalue": "MethodError: no method matching getscope(::Module)\n\nClosest candidates are:\n  getscope(!Matched::Scope)\n   @ GATlab C:\\Users\\Paulius\\.julia\\packages\\GATlab\\M0FGy\\src\\syntax\\Scopes.jl:414\n  getscope(!Matched::HasScopeList, !Matched::Int64)\n   @ GATlab C:\\Users\\Paulius\\.julia\\packages\\GATlab\\M0FGy\\src\\syntax\\Scopes.jl:749\n  getscope(!Matched::AppendContext, !Matched::Int64)\n   @ GATlab C:\\Users\\Paulius\\.julia\\packages\\GATlab\\M0FGy\\src\\syntax\\Scopes.jl:784\n  ...\n",
     "output_type": "error",
     "traceback": [
      "MethodError: no method matching getscope(::Module)\n",
      "\n",
      "Closest candidates are:\n",
      "  getscope(!Matched::Scope)\n",
      "   @ GATlab C:\\Users\\Paulius\\.julia\\packages\\GATlab\\M0FGy\\src\\syntax\\Scopes.jl:414\n",
      "  getscope(!Matched::HasScopeList, !Matched::Int64)\n",
      "   @ GATlab C:\\Users\\Paulius\\.julia\\packages\\GATlab\\M0FGy\\src\\syntax\\Scopes.jl:749\n",
      "  getscope(!Matched::AppendContext, !Matched::Int64)\n",
      "   @ GATlab C:\\Users\\Paulius\\.julia\\packages\\GATlab\\M0FGy\\src\\syntax\\Scopes.jl:784\n",
      "  ...\n",
      "\n",
      "\n",
      "Stacktrace:\n",
      " [1] top-level scope\n",
      "   @ c:\\Users\\Paulius\\Documents\\kursinis\\julia\\try.ipynb:1"
     ]
    }
   ],
   "source": [
    "getscope(ThCategory)"
   ]
  },
  {
   "cell_type": "code",
   "execution_count": 11,
   "metadata": {},
   "outputs": [
    {
     "ename": "UndefVarError",
     "evalue": "UndefVarError: `Ob` not defined",
     "output_type": "error",
     "traceback": [
      "UndefVarError: `Ob` not defined\n",
      "\n",
      "Stacktrace:\n",
      " [1] top-level scope\n",
      "   @ c:\\Users\\Paulius\\Documents\\kursinis\\julia\\try.ipynb:1"
     ]
    }
   ],
   "source": [
    "@withmodel FinSetC() (Ob, Hom, id, compose, dom, codom) begin\n",
    "    \n",
    "c= Ob(1)\n",
    "d= Ob(2)\n",
    "Hom([2], c::Int, d::Int)\n",
    "\n",
    "end"
   ]
  },
  {
   "cell_type": "code",
   "execution_count": 12,
   "metadata": {},
   "outputs": [
    {
     "data": {
      "text/plain": [
       "FirstTestCase((1, 2, 3), 3)"
      ]
     },
     "metadata": {},
     "output_type": "display_data"
    }
   ],
   "source": [
    "struct TestCase{T, O}\n",
    "    input::T\n",
    "    expectedOutput::O\n",
    "end\n",
    "\n",
    "const FirstTestCase = TestCase{Tuple{Int, Int, Int}, Int}\n",
    "\n",
    "example1 = FirstTestCase((1,2,3), 3)"
   ]
  },
  {
   "cell_type": "code",
   "execution_count": 13,
   "metadata": {},
   "outputs": [
    {
     "data": {
      "text/plain": [
       "##docsink#324 (generic function with 0 methods)"
      ]
     },
     "metadata": {},
     "output_type": "display_data"
    }
   ],
   "source": [
    "struct FirstTestSuiteC <: Model{Tuple{FirstTestCase, Tuple{FirstTestCase, FirstTestCase}}} end\n",
    "\n",
    "function is_permutation(tuple_l::Tuple, tuple_r::Tuple) :: Bool \n",
    "    return sort(collect(tuple_l)) == sort(collect(tuple_r))\n",
    "end\n",
    "\n",
    "#Max out of 3\n",
    "@instance GATlab.ThThinCategory{FirstTestCase, Tuple{FirstTestCase, FirstTestCase}} [model::FirstTestSuiteC] begin\n",
    "\n",
    "    Ob(x::FirstTestCase) = maximum(x.input) == x.expectedOutput ? x : @fail \"Invalid test case.\"\n",
    "\n",
    "    function Hom(f::Tuple{FirstTestCase, FirstTestCase}, dom::FirstTestCase, codom::FirstTestCase)\n",
    "        if is_permutation(dom.input, codom.input)\n",
    "            return f\n",
    "        else\n",
    "            @fail \"Test case input arrays are not permutations of each other.\"\n",
    "        end\n",
    "    end\n",
    "\n",
    "    id(testcase::FirstTestCase) = Tuple{FirstTestCase, FirstTestCase}((testcase, testcase))\n",
    "\n",
    "    compose(f::Tuple{FirstTestCase, FirstTestCase}, g::Tuple{FirstTestCase, FirstTestCase}) = \n",
    "                            f[2] == g[1] ? Tuple{FirstTestCase, FirstTestCase}((f[1], g[2])) : @fail \"Domain and codomain of morphisms must match in order to perform composition\"\n",
    "    \n",
    "    dom(f::Tuple{FirstTestCase, FirstTestCase}) = f[1]\n",
    "    codom(f::Tuple{FirstTestCase, FirstTestCase}) = f[2]\n",
    "\n",
    "end"
   ]
  },
  {
   "cell_type": "code",
   "execution_count": 14,
   "metadata": {},
   "outputs": [
    {
     "data": {
      "text/plain": [
       "true"
      ]
     },
     "metadata": {},
     "output_type": "display_data"
    }
   ],
   "source": [
    "c = GATlab.ThThinCategory.Ob[FirstTestSuiteC()](FirstTestCase((1,2,3),3))\n",
    "d = GATlab.ThThinCategory.Ob[FirstTestSuiteC()](FirstTestCase((1,3,2),3))\n",
    "e = GATlab.ThThinCategory.Ob[FirstTestSuiteC()](FirstTestCase((3,1,2),3))\n",
    "\n",
    "f = GATlab.ThThinCategory.Hom[FirstTestSuiteC()]((c,d)::Tuple{FirstTestCase, FirstTestCase}, c, d)\n",
    "g = GATlab.ThThinCategory.Hom[FirstTestSuiteC()]((d,e)::Tuple{FirstTestCase, FirstTestCase}, d, e)\n",
    "\n",
    "h = GATlab.ThThinCategory.compose[FirstTestSuiteC()](f,g)\n",
    "\n",
    "somethjing = GATlab.ThThinCategory.Hom[FirstTestSuiteC()]((c,d)::Tuple{FirstTestCase, FirstTestCase}, c, d)\n",
    "\n",
    "somethjing == f\n",
    "\n",
    "\n",
    "# c_id = GATlab.ThThinCategory.id[FirstTestSuiteC()](c)\n",
    "# GATlab.ThThinCategory.compose[FirstTestSuiteC()](c_id,f)"
   ]
  },
  {
   "cell_type": "code",
   "execution_count": 15,
   "metadata": {},
   "outputs": [
    {
     "data": {
      "text/plain": [
       "##docsink#337 (generic function with 0 methods)"
      ]
     },
     "metadata": {},
     "output_type": "display_data"
    }
   ],
   "source": [
    "const SecondTestCase = TestCase{Int, Int}\n",
    "\n",
    "example2 = SecondTestCase(1,0)\n",
    "\n",
    "struct SecondTestSuiteC <: Model{Tuple{SecondTestCase, Tuple{Int, Int}}} end\n",
    "\n",
    "# Is a given number even\n",
    "@instance GATlab.ThThinCategory{SecondTestCase, Tuple{Int, Int}} [model::SecondTestSuiteC] begin\n",
    "    \n",
    "    Ob(x::SecondTestCase) = abs(x.input % 2 - 1) == x.expectedOutput ? x : @fail \"Invalid test case.\"\n",
    "\n",
    "    Hom(f::Tuple{Int, Int}, dom::SecondTestCase, codom::SecondTestCase) = f[2] % 2 == 0 && dom.input + f[2] == codom.input && f[1] == dom.input ? f : @fail \"Invalid morphism\"\n",
    "\n",
    "    id(testcase::SecondTestCase) = Tuple{Int, Int}(testcase.input, 0)\n",
    "\n",
    "    compose(f::Tuple{Int,Int}, g::Tuple{Int,Int}) = f[1] + f[2] == g[1] ? (f[1], g[1] + g[2] - f[1])::Tuple{Int,Int} : @fail \"Invalid composition\"\n",
    "\n",
    "    dom(f::Tuple{Int, Int}) = f[1]\n",
    "\n",
    "    codom(f::Tuple{Int, Int}) = f[1] + f[2]\n",
    "\n",
    "end\n",
    "\n",
    "# Test modelio kategorija produktas su sample kategorija\n",
    "# Random generating objects from category\n",
    "# Sampling kategorija kaip urna\n",
    "# Objektas - test case ištraukimo operacija\n",
    "# Morfizmas - sugalvoti kaip realizuoti traukimą sekančio objekto\n",
    "# Urna virs baigtines aibes. Jeigu traukimas vyksta už baigtinės aibės ribų - traukimo rezultatas ::Nothing\n",
    "# Baigtine tikimybine erdve"
   ]
  },
  {
   "cell_type": "code",
   "execution_count": 16,
   "metadata": {},
   "outputs": [
    {
     "data": {
      "text/plain": [
       "(1, 4)"
      ]
     },
     "metadata": {},
     "output_type": "display_data"
    }
   ],
   "source": [
    "a = GATlab.ThThinCategory.Ob[SecondTestSuiteC()](SecondTestCase(1,0))\n",
    "b = GATlab.ThThinCategory.Ob[SecondTestSuiteC()](SecondTestCase(2,1))\n",
    "c = GATlab.ThThinCategory.Ob[SecondTestSuiteC()](SecondTestCase(3,0))\n",
    "d = GATlab.ThThinCategory.Ob[SecondTestSuiteC()](SecondTestCase(5,0))\n",
    "\n",
    "\n",
    "f = GATlab.ThThinCategory.Hom[SecondTestSuiteC()]((a.input,2)::Tuple{Int, Int}, a, c)\n",
    "g = GATlab.ThThinCategory.Hom[SecondTestSuiteC()]((c.input,2)::Tuple{Int, Int}, c, d)\n",
    "\n",
    "h = GATlab.ThThinCategory.compose[SecondTestSuiteC()](f,g)"
   ]
  },
  {
   "cell_type": "code",
   "execution_count": 17,
   "metadata": {},
   "outputs": [
    {
     "data": {
      "text/plain": [
       "##docsink#350 (generic function with 0 methods)"
      ]
     },
     "metadata": {},
     "output_type": "display_data"
    }
   ],
   "source": [
    "const ThirdTestCase = TestCase{Vector{Int}, Int}\n",
    "\n",
    "example3 = ThirdTestCase([1,2,3,4], 10)\n",
    "\n",
    "struct ThirdTestSuiteC <: Model{Tuple{ThirdTestCase, Tuple{ThirdTestCase, ThirdTestCase}}} end\n",
    "\n",
    "# Sum of vector of integers\n",
    "@instance GATlab.ThThinCategory{ThirdTestCase, Tuple{ThirdTestCase, ThirdTestCase}} [model::ThirdTestSuiteC] begin\n",
    "    Ob(x::ThirdTestCase) = sum(x.input) == x.expectedOutput ? x : @fail \"Invalid object\"\n",
    "\n",
    "    function Hom(f::Tuple{ThirdTestCase, ThirdTestCase}, dom::ThirdTestCase, codom::ThirdTestCase) \n",
    "        A = f[2].input\n",
    "        B = f[1].input\n",
    "        \n",
    "        count_A = Dict()\n",
    "\n",
    "        for element in A\n",
    "            count_A[element] = get(count_A, element, 0) + 1\n",
    "        end\n",
    "\n",
    "        for element in B\n",
    "            if !haskey(count_A, element) || count_A[element] == 0\n",
    "                @fail \"Invalid morphism\"\n",
    "            else\n",
    "                count_A[element] -= 1\n",
    "            end\n",
    "        end\n",
    "    \n",
    "        return f\n",
    "    end\n",
    "\n",
    "    id(x::ThirdTestCase) = (x, x)\n",
    "\n",
    "    compose(f::Tuple{ThirdTestCase, ThirdTestCase}, g::Tuple{ThirdTestCase, ThirdTestCase}) = f[2] == g[1] ? (f[1], g[2]) : @fail \"Invalid composition\"\n",
    "\n",
    "    dom(f::Tuple{ThirdTestCase, ThirdTestCase}) = f[1]\n",
    "\n",
    "    codom(f::Tuple{ThirdTestCase, ThirdTestCase}) = f[2]\n",
    "end"
   ]
  },
  {
   "cell_type": "code",
   "execution_count": 18,
   "metadata": {},
   "outputs": [
    {
     "name": "stdout",
     "output_type": "stream",
     "text": [
      "ThirdTestCase([1], 1)ThirdTestCase([1, 3], 4)"
     ]
    }
   ],
   "source": [
    "\n",
    "a = GATlab.ThThinCategory.Ob[ThirdTestSuiteC()](ThirdTestCase([1],1))\n",
    "b = GATlab.ThThinCategory.Ob[ThirdTestSuiteC()](ThirdTestCase([1,3],4))\n",
    "c = GATlab.ThThinCategory.Ob[ThirdTestSuiteC()](ThirdTestCase([1,3,6],10))\n",
    "\n",
    "f = GATlab.ThThinCategory.Hom[ThirdTestSuiteC()]((a,b),a,b)\n",
    "g = GATlab.ThThinCategory.Hom[ThirdTestSuiteC()]((b,c),b,c) \n",
    "id = GATlab.ThThinCategory.id[ThirdTestSuiteC()](b)\n",
    "\n",
    "composition = GATlab.ThThinCategory.compose[ThirdTestSuiteC()](f,id)\n",
    "\n",
    "dom = GATlab.ThThinCategory.dom[ThirdTestSuiteC()](composition)\n",
    "codom = GATlab.ThThinCategory.codom[ThirdTestSuiteC()](composition)\n",
    "\n",
    "show(dom)\n",
    "show(codom)"
   ]
  },
  {
   "cell_type": "code",
   "execution_count": 19,
   "metadata": {},
   "outputs": [
    {
     "data": {
      "text/plain": [
       "##docsink#363 (generic function with 0 methods)"
      ]
     },
     "metadata": {},
     "output_type": "display_data"
    }
   ],
   "source": [
    "const FourthTestCase = TestCase{Vector{Int}, Vector{Int}}\n",
    "\n",
    "example4 = FourthTestCase([1,3,2],[2,3,1])\n",
    "\n",
    "struct FourthTestSuiteC <: Model{Tuple{FourthTestCase, Tuple{FourthTestCase, FourthTestCase}}} end\n",
    "\n",
    "# Finite list reverse\n",
    "@instance GATlab.ThThinCategory{FourthTestCase, Tuple{FourthTestCase, FourthTestCase}} [model::FourthTestSuiteC] begin\n",
    "    Ob(x::FourthTestCase) = x.input == reverse(x.expectedOutput) ? x : @fail \"Invalid object\"\n",
    "\n",
    "    function Hom(f::Tuple{FourthTestCase, FourthTestCase}, dom::FourthTestCase, codom::FourthTestCase)\n",
    "        dom_input = f[1].input\n",
    "        codom_input = f[2].input\n",
    "\n",
    "        dom_expectedoutput = f[1].expectedOutput\n",
    "        codom_expectedoutput = f[2].expectedOutput\n",
    "\n",
    "        if length(dom_input) > length(codom_input) || any(dom_input[i] != codom_input[i] for i in 1:length(dom_input))\n",
    "            @fail \"Domain input array is not a subsequence of codomain input array\"\n",
    "        end\n",
    "    \n",
    "        if length(dom_expectedoutput) > length(codom_expectedoutput)\n",
    "           @fail \"domain expected output array is not a subsequence of codomain expected output array\" \n",
    "        end\n",
    "        \n",
    "        for i in 1:length(dom_expectedoutput) \n",
    "            if dom_expectedoutput[i] != codom_expectedoutput[i+length(codom_expectedoutput)-length(dom_expectedoutput)]\n",
    "                @fail \"domain expected output array is not a subarray of codomain expected output array\"\n",
    "            end\n",
    "        end\n",
    "\n",
    "        return f\n",
    "    end\n",
    "\n",
    "    id(x::FourthTestCase) = (x, x)\n",
    "\n",
    "    compose(f::Tuple{FourthTestCase, FourthTestCase}, g::Tuple{FourthTestCase, FourthTestCase}) = f[2] == g[1] ? (f[1], g[2]) : @fail \"Invalid composition\"\n",
    "\n",
    "    dom(f::Tuple{FourthTestCase, FourthTestCase}) = f[1]\n",
    "\n",
    "    codom(f::Tuple{FourthTestCase, FourthTestCase}) = f[2]\n",
    "end"
   ]
  },
  {
   "cell_type": "code",
   "execution_count": 20,
   "metadata": {},
   "outputs": [
    {
     "name": "stdout",
     "output_type": "stream",
     "text": [
      "FourthTestCase([1, 3, 2], [2, 3, 1])FourthTestCase("
     ]
    },
    {
     "name": "stdout",
     "output_type": "stream",
     "text": [
      "[1, 3, 2, 4, 8], [8, 4, 2, 3, 1])"
     ]
    }
   ],
   "source": [
    "a = GATlab.ThThinCategory.Ob[FourthTestSuiteC()](FourthTestCase([1,2,3],[3,2,1]))\n",
    "b = GATlab.ThThinCategory.Ob[FourthTestSuiteC()](FourthTestCase([1,3,2],[2,3,1]))\n",
    "c = GATlab.ThThinCategory.Ob[FourthTestSuiteC()](FourthTestCase([1,3,2,4],[4,2,3,1]))\n",
    "d = GATlab.ThThinCategory.Ob[FourthTestSuiteC()](FourthTestCase([1,3,2,4,8],[8,4,2,3,1]))\n",
    "\n",
    "f = GATlab.ThThinCategory.Hom[FourthTestSuiteC()]((b,c), b, c)\n",
    "g = GATlab.ThThinCategory.Hom[FourthTestSuiteC()]((c,d), c, d)\n",
    "\n",
    "h = GATlab.ThThinCategory.Hom[FourthTestSuiteC()]((b,d), b, d)\n",
    "id = GATlab.ThThinCategory.id[FourthTestSuiteC()](a)\n",
    "\n",
    "compose = GATlab.ThThinCategory.compose[FourthTestSuiteC()](f,g)\n",
    "\n",
    "dom = GATlab.ThThinCategory.dom[FourthTestSuiteC()](compose)\n",
    "codom = GATlab.ThThinCategory.codom[FourthTestSuiteC()](compose)\n",
    "\n",
    "show(dom)\n",
    "show(codom)\n",
    "\n"
   ]
  },
  {
   "cell_type": "code",
   "execution_count": 21,
   "metadata": {},
   "outputs": [
    {
     "data": {
      "text/plain": [
       "##docsink#376 (generic function with 0 methods)"
      ]
     },
     "metadata": {},
     "output_type": "display_data"
    }
   ],
   "source": [
    "const FifthTestCase = TestCase{Vector{Int}, Vector{Int}}\n",
    "\n",
    "example5 = FifthTestCase([1,3,2],[1,2,3])\n",
    "\n",
    "struct FifthTestSuiteC <: Model{Tuple{FifthTestCase, Tuple{FifthTestCase, FifthTestCase}}} end\n",
    "\n",
    "# Sorting a finite list in ascending order\n",
    "@instance GATlab.ThThinCategory{FifthTestCase, Tuple{FifthTestCase, FifthTestCase}} [model::FifthTestSuiteC] begin\n",
    "    Ob(x::FifthTestCase) = sort(x.input) == x.expectedOutput ? x : @fail \"Invalid object\"\n",
    "    \n",
    "    function Hom(f::Tuple{FifthTestCase, FifthTestCase}, dom::FifthTestCase, codom::FifthTestCase)\n",
    "        A = f[2].input\n",
    "        B = f[1].input\n",
    "        \n",
    "        count_A = Dict()\n",
    "\n",
    "        for element in A\n",
    "            count_A[element] = get(count_A, element, 0) + 1\n",
    "        end\n",
    "\n",
    "        for element in B\n",
    "            if !haskey(count_A, element) || count_A[element] == 0\n",
    "                @fail \"Invalid morphism\"\n",
    "            else\n",
    "                count_A[element] -= 1\n",
    "            end\n",
    "        end\n",
    "    \n",
    "        return f\n",
    "    end\n",
    "\n",
    "    id(x::FifthTestCase) = (x, x)\n",
    "\n",
    "    compose(f::Tuple{FifthTestCase, FifthTestCase}, g::Tuple{FifthTestCase, FifthTestCase}) = f[2] == g[1] ? (f[1], g[2]) : @fail \"Invalid composition\"\n",
    "\n",
    "    dom(f::Tuple{FifthTestCase, FifthTestCase}) = f[1]\n",
    "\n",
    "    codom(f::Tuple{FifthTestCase, FifthTestCase}) = f[2]\n",
    "end"
   ]
  },
  {
   "cell_type": "code",
   "execution_count": 22,
   "metadata": {},
   "outputs": [
    {
     "name": "stdout",
     "output_type": "stream",
     "text": [
      "TestCase{Vector"
     ]
    },
    {
     "name": "stdout",
     "output_type": "stream",
     "text": [
      "{Int64}, Vector{Int64}}([1, 3, 2], [1, 2, 3])TestCase{Vector{Int64}, Vector{Int64}}([1, 3, 2], [1, 2, 3])"
     ]
    }
   ],
   "source": [
    "a = GATlab.ThThinCategory.Ob[FifthTestSuiteC()](FifthTestCase([1,3,2],[1,2,3]))\n",
    "b = GATlab.ThThinCategory.Ob[FifthTestSuiteC()](FifthTestCase([3,1,2],[1,2,3]))\n",
    "c = GATlab.ThThinCategory.Ob[FifthTestSuiteC()](FifthTestCase([1,3,2,4],[1,2,3,4]))\n",
    "d = GATlab.ThThinCategory.Ob[FifthTestSuiteC()](FifthTestCase([1,2,2,4],[1,2,2,4]))\n",
    "\n",
    "f = GATlab.ThThinCategory.Hom[FifthTestSuiteC()]((a,b), a, b)\n",
    "g = GATlab.ThThinCategory.Hom[FifthTestSuiteC()]((b,c), b, c)\n",
    "\n",
    "id = GATlab.ThThinCategory.id[FifthTestSuiteC()](a)\n",
    "\n",
    "composition = GATlab.ThThinCategory.compose[FifthTestSuiteC()](f,g)\n",
    "\n",
    "dom = GATlab.ThThinCategory.dom[FifthTestSuiteC()](composition)\n",
    "\n",
    "codom = GATlab.ThThinCategory.dom[FifthTestSuiteC()](composition)\n",
    "\n",
    "show(dom)\n",
    "show(codom)"
   ]
  },
  {
   "cell_type": "code",
   "execution_count": 23,
   "metadata": {},
   "outputs": [
    {
     "data": {
      "text/plain": [
       "##docsink#389 (generic function with 0 methods)"
      ]
     },
     "metadata": {},
     "output_type": "display_data"
    }
   ],
   "source": [
    "const SixthTestCase = TestCase{Vector{Vector{Int}}, Vector{Int}}\n",
    "\n",
    "example6 = SixthTestCase([[1,2],[3,4]],[1,2,3,4])\n",
    "\n",
    "struct SixthTestSuiteC <: Model{Tuple{SixthTestCase, Tuple{SixthTestCase, SixthTestCase}}} end\n",
    "\n",
    "# Finite list concatenation\n",
    "@instance GATlab.ThThinCategory{SixthTestCase, Tuple{SixthTestCase, SixthTestCase}} [model::SixthTestSuiteC] begin\n",
    "    Ob(x::SixthTestCase) = collect(Base.Iterators.Flatten(x.input)) == x.expectedOutput ? x : @fail \"Invalid object\"\n",
    "\n",
    "    function Hom(f::Tuple{SixthTestCase, SixthTestCase}, dom::SixthTestCase, codom::SixthTestCase) \n",
    "        dom_flatinput = collect(Base.Iterators.Flatten(f[1].input))\n",
    "        codom_flatinput = collect(Base.Iterators.Flatten(f[2].input))\n",
    "\n",
    "        if length(dom_flatinput) > length(codom_flatinput) || any(dom_flatinput[i] != codom_flatinput[i] for i in 1:length(dom_flatinput))\n",
    "            @fail \"Domain input array is not a subsequence of codomain input array\"\n",
    "        end\n",
    "\n",
    "        return f\n",
    "    end\n",
    "    \n",
    "    id(x::SixthTestCase) = (x, x)\n",
    "\n",
    "    compose(f::Tuple{SixthTestCase, SixthTestCase}, g::Tuple{SixthTestCase, SixthTestCase}) = f[2] == g[1] ? (f[1], g[2]) : @fail \"Invalid composition\"\n",
    "\n",
    "    dom(f::Tuple{SixthTestCase, SixthTestCase}) = f[1]\n",
    "\n",
    "    codom(f::Tuple{SixthTestCase, SixthTestCase}) = f[2]\n",
    "end"
   ]
  },
  {
   "cell_type": "code",
   "execution_count": 24,
   "metadata": {},
   "outputs": [
    {
     "name": "stdout",
     "output_type": "stream",
     "text": [
      "SixthTestCase([[1, 3, 2]], [1, 3, 2])SixthTestCase([[1, 3], [2, 2]], [1, 3, 2, 2])"
     ]
    }
   ],
   "source": [
    "a = GATlab.ThThinCategory.Ob[SixthTestSuiteC()](SixthTestCase([[1,3,2]],[1,3,2]))\n",
    "b = GATlab.ThThinCategory.Ob[SixthTestSuiteC()](SixthTestCase([[1,3],[2]],[1,3,2]))\n",
    "c = GATlab.ThThinCategory.Ob[SixthTestSuiteC()](SixthTestCase([[1,3],[2,2]],[1,3,2,2]))\n",
    "\n",
    "f = GATlab.ThThinCategory.Hom[SixthTestSuiteC()]((a,b),a,b)\n",
    "g = GATlab.ThThinCategory.Hom[SixthTestSuiteC()]((b,c),b,c)\n",
    "\n",
    "id = GATlab.ThThinCategory.id[SixthTestSuiteC()](a)\n",
    "\n",
    "composition = GATlab.ThThinCategory.compose[SixthTestSuiteC()](f,g)\n",
    "\n",
    "dom = GATlab.ThThinCategory.dom[SixthTestSuiteC()](composition)\n",
    "\n",
    "codom = GATlab.ThThinCategory.codom[SixthTestSuiteC()](composition)\n",
    "\n",
    "show(dom)\n",
    "show(codom)\n"
   ]
  },
  {
   "cell_type": "code",
   "execution_count": 25,
   "metadata": {},
   "outputs": [
    {
     "data": {
      "text/plain": [
       "##docsink#402 (generic function with 0 methods)"
      ]
     },
     "metadata": {},
     "output_type": "display_data"
    }
   ],
   "source": [
    "const SeventhTestCase = TestCase{Tuple{Vector{Int}, Int}, Int}\n",
    "\n",
    "example7 = SeventhTestCase(([1,2,2,3],2),2)\n",
    "\n",
    "struct SeventhTestSuiteC <: Model{Tuple{SeventhTestCase, Tuple{SeventhTestCase, SeventhTestCase}}} end\n",
    "\n",
    "# Count number of occurances of an element in a finite list\n",
    "@instance GATlab.ThThinCategory{SeventhTestCase, Tuple{SeventhTestCase, SeventhTestCase}} [model::SeventhTestSuiteC] begin\n",
    "    Ob(x::SeventhTestCase) = count(y -> y == x.input[2], x.input[1]) == x.expectedOutput ? x : @fail \"Invalid object\"\n",
    "\n",
    "    function Hom(f::Tuple{SeventhTestCase, SeventhTestCase}, dom::SeventhTestCase, codom::SeventhTestCase)\n",
    "        dom_inputvec = f[1].input[1]\n",
    "        codom_inputvec = f[2].input[1]\n",
    "\n",
    "        dom_countednumber = f[1].input[2]\n",
    "        codom_countednumber = f[1].input[2]\n",
    "        \n",
    "        count_codom_inputvec = Dict()\n",
    "\n",
    "        if dom_countednumber != codom_countednumber\n",
    "            @fail \"Counted number don't match\"\n",
    "        end\n",
    "\n",
    "        for element in codom_inputvec\n",
    "            count_codom_inputvec[element] = get(count_codom_inputvec, element, 0) + 1\n",
    "        end\n",
    "\n",
    "        for element in dom_inputvec\n",
    "            if !haskey(count_codom_inputvec, element) || count_codom_inputvec[element] == 0\n",
    "                @fail \"Invalid morphism\"\n",
    "            else\n",
    "                count_codom_inputvec[element] -= 1\n",
    "            end\n",
    "        end\n",
    "    \n",
    "        return f\n",
    "    end\n",
    "\n",
    "    compose(f::Tuple{SeventhTestCase, SeventhTestCase}, g::Tuple{SeventhTestCase, SeventhTestCase}) = f[2] == g[1] ? (f[1], g[2]) : @fail \"Invalid composition\"\n",
    "\n",
    "    id(x::SeventhTestCase) = (x,x)\n",
    "\n",
    "    dom(f::Tuple{SeventhTestCase, SeventhTestCase}) = f[1]\n",
    "\n",
    "    codom(f::Tuple{SeventhTestCase, SeventhTestCase}) = f[2]\n",
    "end"
   ]
  },
  {
   "cell_type": "code",
   "execution_count": 26,
   "metadata": {},
   "outputs": [
    {
     "name": "stdout",
     "output_type": "stream",
     "text": [
      "SeventhTestCase(([1, 3, 2], 2), 1)SeventhTestCase(([1, 2, 3, 2], 2), 2)"
     ]
    }
   ],
   "source": [
    "a = GATlab.ThThinCategory.Ob[SeventhTestSuiteC()](SeventhTestCase(([1,3,2], 2),1))\n",
    "b = GATlab.ThThinCategory.Ob[SeventhTestSuiteC()](SeventhTestCase(([1,2,3], 2),1))\n",
    "c = GATlab.ThThinCategory.Ob[SeventhTestSuiteC()](SeventhTestCase(([1,2,3,2], 2),2))\n",
    "\n",
    "f = GATlab.ThThinCategory.Hom[SeventhTestSuiteC()]((a,b), a, b)\n",
    "g = GATlab.ThThinCategory.Hom[SeventhTestSuiteC()]((b,c), b, c)\n",
    "\n",
    "id = GATlab.ThThinCategory.id[SeventhTestSuiteC()](a)\n",
    "\n",
    "composition = GATlab.ThThinCategory.compose[SeventhTestSuiteC()](f,g)\n",
    "\n",
    "dom = GATlab.ThThinCategory.dom[SeventhTestSuiteC()](composition)\n",
    "codom = GATlab.ThThinCategory.codom[SeventhTestSuiteC()](composition)\n",
    "\n",
    "show(dom)\n",
    "show(codom)\n",
    "\n"
   ]
  },
  {
   "cell_type": "code",
   "execution_count": 27,
   "metadata": {},
   "outputs": [
    {
     "data": {
      "text/plain": [
       "##docsink#415 (generic function with 0 methods)"
      ]
     },
     "metadata": {},
     "output_type": "display_data"
    }
   ],
   "source": [
    "const EighthTestCase = TestCase{Vector{Int}, Int} \n",
    "\n",
    "example8 = EighthTestCase(([1,2,2,3,4,4]),2)\n",
    "\n",
    "struct EighthTestSuiteC <: Model{Tuple{EighthTestCase, Tuple{EighthTestCase, EighthTestCase}}} end\n",
    "\n",
    "# Get most frequently repeating element in an array\n",
    "@instance GATlab.ThThinCategory{EighthTestCase, Tuple{EighthTestCase, EighthTestCase}} [model::EighthTestSuiteC] begin\n",
    "    function Ob(x::EighthTestCase)\n",
    "        counts = Dict()\n",
    "        input_vector = x.input\n",
    "        expected_output = x.expectedOutput\n",
    "\n",
    "        if isempty(input_vector)\n",
    "            return x\n",
    "        end\n",
    "\n",
    "        for element in input_vector\n",
    "            counts[element] = get(counts, element, 0) + 1\n",
    "        end\n",
    "        \n",
    "        max_frequency = maximum(values(counts))\n",
    "\n",
    "        most_frequent_elements = [element for (element, count) in counts if count == max_frequency]\n",
    "\n",
    "        if in(expected_output, most_frequent_elements)\n",
    "            return x\n",
    "        end\n",
    "\n",
    "        @fail \"Invalid object.\"\n",
    "    end\n",
    "\n",
    "    function Hom(f::Tuple{EighthTestCase, EighthTestCase}, dom::EighthTestCase, codom::EighthTestCase)\n",
    "        A = f[2].input\n",
    "        B = f[1].input\n",
    "        \n",
    "        count_A = Dict()\n",
    "\n",
    "        for element in A\n",
    "            count_A[element] = get(count_A, element, 0) + 1\n",
    "        end\n",
    "\n",
    "        for element in B\n",
    "            if !haskey(count_A, element) || count_A[element] == 0\n",
    "                @fail \"Invalid morphism\"\n",
    "            else\n",
    "                count_A[element] -= 1\n",
    "            end\n",
    "        end\n",
    "    \n",
    "        return f\n",
    "    end\n",
    "\n",
    "    id(x::EighthTestCase) = (x, x)\n",
    "\n",
    "    compose(f::Tuple{EighthTestCase, EighthTestCase}, g::Tuple{EighthTestCase, EighthTestCase}) = f[2] == g[1] ? (f[1], g[2]) : @fail \"Invalid composition\"\n",
    "\n",
    "    dom(f::Tuple{EighthTestCase, EighthTestCase}) = f[1]\n",
    "\n",
    "    codom(f::Tuple{EighthTestCase, EighthTestCase}) = f[2]\n",
    "end"
   ]
  },
  {
   "cell_type": "code",
   "execution_count": 28,
   "metadata": {},
   "outputs": [
    {
     "name": "stdout",
     "output_type": "stream",
     "text": [
      "TestCase{Vector{Int64}, Int64}([1], 1)TestCase{Vector{Int64}, Int64}([1, 1, 2], 1)"
     ]
    }
   ],
   "source": [
    "a = GATlab.ThThinCategory.Ob[EighthTestSuiteC()](EighthTestCase([1],1))\n",
    "b = GATlab.ThThinCategory.Ob[EighthTestSuiteC()](EighthTestCase([1,1],1))\n",
    "c = GATlab.ThThinCategory.Ob[EighthTestSuiteC()](EighthTestCase([1,1,2],1))\n",
    "\n",
    "f = GATlab.ThThinCategory.Hom[EighthTestSuiteC()]((a,b),a,b)\n",
    "g = GATlab.ThThinCategory.Hom[EighthTestSuiteC()]((b,c),b,c)\n",
    "\n",
    "composition = GATlab.ThThinCategory.compose[EighthTestSuiteC()](f,g)\n",
    "\n",
    "id = GATlab.ThThinCategory.id[EighthTestSuiteC()](a)\n",
    "\n",
    "dom = GATlab.ThThinCategory.dom[EighthTestSuiteC()](composition)\n",
    "codom = GATlab.ThThinCategory.codom[EighthTestSuiteC()](composition)\n",
    "\n",
    "show(dom)\n",
    "show(codom)"
   ]
  },
  {
   "cell_type": "code",
   "execution_count": 29,
   "metadata": {},
   "outputs": [
    {
     "data": {
      "text/plain": [
       "##docsink#428 (generic function with 0 methods)"
      ]
     },
     "metadata": {},
     "output_type": "display_data"
    }
   ],
   "source": [
    "const NinthTestCase = TestCase{Vector{Int}, Bool} # Check if a given array is a palindrome\n",
    "\n",
    "example9 = NinthTestCase(([1,2,2,3,4,4]), false)\n",
    "\n",
    "struct NinthTestSuiteC <: Model{Tuple{NinthTestCase, Tuple{NinthTestCase, NinthTestCase}}} end\n",
    "\n",
    "# Check if a given vector is a palindrome\n",
    "@instance GATlab.ThThinCategory{NinthTestCase, Tuple{NinthTestCase, NinthTestCase}} [model::NinthTestSuiteC] begin\n",
    "    Ob(x::NinthTestCase) = x.expectedOutput == (reverse(x.input) == x.input) ? x : @fail \"Invalid object\"\n",
    "\n",
    "    # Morphism can add same elements to both sides of vector if the vector is a palindrome.\n",
    "    # It can also add element anywhere if the vector is not a palindrome\n",
    "    function Hom(f::Tuple{NinthTestCase, NinthTestCase}, dom::NinthTestCase, codom::NinthTestCase)  \n",
    "        dom_input = f[1].input\n",
    "        codom_input = f[2].input\n",
    "\n",
    "        if f[1].expectedOutput != f[2].expectedOutput\n",
    "            @fail \"Invalid morphism\"\n",
    "        end\n",
    "\n",
    "        if dom_input == reverse(dom_input) && codom_input != reverse(codom_input)\n",
    "            @fail \"Invalid morphism\"\n",
    "        end\n",
    "\n",
    "        if dom_input != reverse(dom_input) && codom_input == reverse(codom_input)\n",
    "            @fail \"Invalid morphism\"\n",
    "        end\n",
    "\n",
    "        if f[1].expectedOutput == true\n",
    "            for i in 1:(length(codom_input) - length(dom_input) + 1) \n",
    "                if codom_input[i:(i + length(dom_input) - 1)] == dom_input\n",
    "                    return f\n",
    "                end\n",
    "            end\n",
    "        else\n",
    "            if any(dom_input[i] != codom_input[i] for i in 1:length(dom_input))\n",
    "                @fail \"Invalid morphism\"\n",
    "            end\n",
    "            \n",
    "            return f\n",
    "        end\n",
    "    end\n",
    "\n",
    "    id(x::NinthTestCase) = (x, x)\n",
    "\n",
    "    compose(f::Tuple{NinthTestCase, NinthTestCase}, g::Tuple{NinthTestCase, NinthTestCase}) = f[2] == g[1] ? (f[1], g[2]) : @fail \"Invalid composition\"\n",
    "\n",
    "    dom(f::Tuple{NinthTestCase, NinthTestCase}) = f[1]\n",
    "\n",
    "    codom(f::Tuple{NinthTestCase, NinthTestCase}) = f[2]\n",
    "end"
   ]
  },
  {
   "cell_type": "code",
   "execution_count": 30,
   "metadata": {},
   "outputs": [
    {
     "data": {
      "text/plain": [
       "(NinthTestCase([1, 2], false), NinthTestCase([1, 2, 3, 4], false))"
      ]
     },
     "metadata": {},
     "output_type": "display_data"
    }
   ],
   "source": [
    "a = GATlab.ThThinCategory.Ob[NinthTestSuiteC()](NinthTestCase([1], true))\n",
    "b = GATlab.ThThinCategory.Ob[NinthTestSuiteC()](NinthTestCase([2,1,2], true))\n",
    "c = GATlab.ThThinCategory.Ob[NinthTestSuiteC()](NinthTestCase([3,2,1,2,3], true))\n",
    "\n",
    "test = GATlab.ThThinCategory.Ob[NinthTestSuiteC()](NinthTestCase([1,2,1], true))\n",
    "\n",
    "f = GATlab.ThThinCategory.Hom[NinthTestSuiteC()]((a,b),a,b)\n",
    "g = GATlab.ThThinCategory.Hom[NinthTestSuiteC()]((b,c),b,c)\n",
    "\n",
    "id = GATlab.ThThinCategory.id[NinthTestSuiteC()](a)\n",
    "\n",
    "compose = GATlab.ThThinCategory.compose[NinthTestSuiteC()](f,g)\n",
    "\n",
    "dom = GATlab.ThThinCategory.dom[NinthTestSuiteC()](compose)\n",
    "codom = GATlab.ThThinCategory.codom[NinthTestSuiteC()](compose)\n",
    "\n",
    "a2 = GATlab.ThThinCategory.Ob[NinthTestSuiteC()](NinthTestCase([1, 2], false))\n",
    "b2 = GATlab.ThThinCategory.Ob[NinthTestSuiteC()](NinthTestCase([1, 2, 3], false))\n",
    "c2 = GATlab.ThThinCategory.Ob[NinthTestSuiteC()](NinthTestCase([1, 2, 3, 4], false))\n",
    "\n",
    "f = GATlab.ThThinCategory.Hom[NinthTestSuiteC()]((a2,b2),a2,b2)\n",
    "g = GATlab.ThThinCategory.Hom[NinthTestSuiteC()]((b2,c2),b2,c2)\n",
    "\n",
    "e = GATlab.ThThinCategory.Hom[NinthTestSuiteC()]((b2,c2),b2,c2)\n",
    "\n",
    "GATlab.ThThinCategory.compose[NinthTestSuiteC()](f,g)\n"
   ]
  },
  {
   "cell_type": "code",
   "execution_count": 52,
   "metadata": {},
   "outputs": [
    {
     "data": {
      "text/plain": [
       "##docsink#480 (generic function with 0 methods)"
      ]
     },
     "metadata": {},
     "output_type": "display_data"
    }
   ],
   "source": [
    "const TenthTestCase = TestCase{Vector{Int}, Vector{Int}} # Check if a given array is a palindrome\n",
    "\n",
    "example10 = TenthTestCase(([1,2,2,3,4,4]), [1,2,3,4])\n",
    "\n",
    "struct TenthTestSuiteC <: Model{Tuple{TenthTestCase, Tuple{TenthTestCase, TenthTestCase}}} end\n",
    "\n",
    "# Remove duplicate elements from a finite list\n",
    "@instance GATlab.ThThinCategory{TenthTestCase, Tuple{TenthTestCase, TenthTestCase}} [model::TenthTestSuiteC] begin\n",
    "    Ob(x::TenthTestCase) = Set(x.input) == Set(x.expectedOutput) ? x : @fail \"Invalid object\"\n",
    "\n",
    "    function Hom(f::Tuple{TenthTestCase, TenthTestCase}, dom::TenthTestCase, codom::TenthTestCase)\n",
    "        dom_input = f[1].input\n",
    "        codom_input = f[2].input\n",
    "\n",
    "        if issubset(Set(dom_input), Set(codom_input))\n",
    "            return f\n",
    "        end\n",
    "\n",
    "        @fail \"Invalid morphism\"\n",
    "    end\n",
    "\n",
    "    id(x::TenthTestCase) = (x, x)\n",
    "\n",
    "    compose(f::Tuple{TenthTestCase, TenthTestCase}, g::Tuple{TenthTestCase, TenthTestCase}) = f[2] == g[1] ? (f[1], g[2]) : @fail \"Invalid composition\"\n",
    "\n",
    "    dom(f::Tuple{TenthTestCase, TenthTestCase}) = f[1]\n",
    "\n",
    "    codom(f::Tuple{TenthTestCase, TenthTestCase}) = f[2]\n",
    "end"
   ]
  },
  {
   "cell_type": "code",
   "execution_count": 56,
   "metadata": {},
   "outputs": [
    {
     "name": "stdout",
     "output_type": "stream",
     "text": [
      "TestCase{Vector{Int64}, Vector{Int64}}([1], [1])TestCase{Vector{Int64}, Vector{Int64}}([1, 1, 2], [1, 2])"
     ]
    }
   ],
   "source": [
    "a = GATlab.ThThinCategory.Ob[TenthTestSuiteC()](TenthTestCase([1], [1]))\n",
    "b = GATlab.ThThinCategory.Ob[TenthTestSuiteC()](TenthTestCase([1,1], [1]))\n",
    "c = GATlab.ThThinCategory.Ob[TenthTestSuiteC()](TenthTestCase([1,1,2], [1,2]))\n",
    "\n",
    "f = GATlab.ThThinCategory.Hom[TenthTestSuiteC()]((a,b),a,b)\n",
    "g = GATlab.ThThinCategory.Hom[TenthTestSuiteC()]((b,c),b,c)\n",
    "\n",
    "id = GATlab.ThThinCategory.id[TenthTestSuiteC()](a)\n",
    "\n",
    "composition = GATlab.ThThinCategory.compose[TenthTestSuiteC()](f,g)\n",
    "\n",
    "dom = GATlab.ThThinCategory.dom[TenthTestSuiteC()](composition)\n",
    "codom = GATlab.ThThinCategory.codom[TenthTestSuiteC()](composition)\n",
    "\n",
    "show(dom)\n",
    "show(codom)"
   ]
  },
  {
   "cell_type": "code",
   "execution_count": 16,
   "metadata": {},
   "outputs": [
    {
     "data": {
      "text/plain": [
       "6"
      ]
     },
     "metadata": {},
     "output_type": "display_data"
    }
   ],
   "source": [
    "function get_random(vector::Vector{T}) where T\n",
    "    if isempty(vector)\n",
    "        return Nothing\n",
    "    end\n",
    "\n",
    "    index = rand(1:length(vector))\n",
    "    return vector[index]\n",
    "end"
   ]
  },
  {
   "cell_type": "code",
   "execution_count": 17,
   "metadata": {},
   "outputs": [
    {
     "data": {
      "text/plain": [
       "##docsink#350 (generic function with 0 methods)"
      ]
     },
     "metadata": {},
     "output_type": "display_data"
    }
   ],
   "source": [
    "struct TestCaseSamplerC{T<:Any} <: Model{Tuple{Vector{T}, Tuple{Vector{T}, Vector{T}}}} end\n",
    "\n",
    "@instance GATlab.ThThinCategory{Vector{T}, Tuple{Vector{T}, Vector{T}}} [model::TestCaseSamplerC{T}] where {T} begin\n",
    "    Ob(vector::Vector{T}) = :(get_random($vector))\n",
    "\n",
    "    Hom(f::Tuple{Vector{T}, Vector{T}}, dom::Vector{T}, codom::Vector{T}) = f\n",
    "\n",
    "    id(vector::Vector{T}) = (vector, vector)\n",
    "\n",
    "    compose(f::Tuple{Vector{T}, Vector{T}}, g::Tuple{Vector{T}, Vector{T}}) = Tuple(f[1], g[2])\n",
    "\n",
    "    dom(f::Tuple{Vector{T}, Vector{T}}) = :(get_random($(f[1])))\n",
    "\n",
    "    codom(f::Tuple{Vector{T}, Vector{T}}) = :(get_random($(f[2])))\n",
    "end"
   ]
  },
  {
   "cell_type": "code",
   "execution_count": 18,
   "metadata": {},
   "outputs": [
    {
     "data": {
      "text/plain": [
       "61-element Vector{FirstTestCase}:\n",
       " FirstTestCase((-50, -50, -50), -50)\n",
       " FirstTestCase((-49, -49, -49), -49)\n",
       " FirstTestCase((-48, -48, -48), -48)\n",
       " FirstTestCase((-47, -47, -47), -47)\n",
       " FirstTestCase((-46, -46, -46), -46)\n",
       " FirstTestCase((-45, -45, -45), -45)\n",
       " FirstTestCase((-44, -44, -44), -44)\n",
       " FirstTestCase((-43, -43, -43), -43)\n",
       " FirstTestCase((-42, -42, -42), -42)\n",
       " FirstTestCase((-41, -41, -41), -41)\n",
       " ⋮\n",
       " FirstTestCase((2, 2, 2), 2)\n",
       " FirstTestCase((3, 3, 3), 3)\n",
       " FirstTestCase((4, 4, 4), 4)\n",
       " FirstTestCase((5, 5, 5), 5)\n",
       " FirstTestCase((6, 6, 6), 6)\n",
       " FirstTestCase((7, 7, 7), 7)\n",
       " FirstTestCase((8, 8, 8), 8)\n",
       " FirstTestCase((9, 9, 9), 9)\n",
       " FirstTestCase((10, 10, 10), 10)"
      ]
     },
     "metadata": {},
     "output_type": "display_data"
    }
   ],
   "source": [
    "NumberLimit = 10\n",
    "\n",
    "function initialize_testcases(limit::Int, condition::Function)\n",
    "    testcases = [FirstTestCase((i, j, k), max(i, j, k)) for i in -50:limit, j in -50:limit, k in -50:limit if condition(i, j, k)]\n",
    "    return reduce(vcat,testcases)\n",
    "end\n",
    "\n",
    "testcases1 = initialize_testcases(NumberLimit, (i,j,k) -> (i != j && i != k && j != k))\n",
    "testcases2 = initialize_testcases(NumberLimit, (i,j,k) -> (count(x -> x == i, (i, j, k)) == 2 || count(x -> x == j, (i, j, k)) == 2 || count(x -> x == k, (i, j, k)) == 2))\n",
    "testcases3 = initialize_testcases(NumberLimit, (i,j,k) -> (i == j == k))"
   ]
  },
  {
   "cell_type": "code",
   "execution_count": 19,
   "metadata": {},
   "outputs": [
    {
     "data": {
      "text/plain": [
       "##docsink#363 (generic function with 0 methods)"
      ]
     },
     "metadata": {},
     "output_type": "display_data"
    }
   ],
   "source": [
    "function filter(vector::Vector{T}, criteria::Function) :: Vector{T} where {T}\n",
    "    new_vector = [x for x in vector if criteria(x)]\n",
    "    return length(new_vector) == 0 ? Vector{T}() : new_vector\n",
    "end\n",
    "\n",
    "filter_criteria = Function\n",
    "\n",
    "struct TestCaseSamplerC2{T<:TestCase} <: Model{Tuple{Vector{T}, Tuple{Vector{T}, Function}}} end\n",
    "\n",
    "@instance GATlab.ThCategory{Vector{T}, Tuple{Vector{T}, Function}} [model::TestCaseSamplerC2{T}] where {T} begin\n",
    "    Ob(vector::Vector{T}) = :(get_random($vector))\n",
    "\n",
    "    Hom(f::Tuple{Vector{T}, Function}, dom::Vector{T}, codom::Vector{T}) = filter(f[1], f[2]::Function) == codom ? (f[1],f[2]) : @fail \"Invalid morphism\"\n",
    "\n",
    "    id(vector::Vector{T}) = (vector, ((x) -> true)::Function)\n",
    "\n",
    "    compose(f::Tuple{Vector{T}, Function}, g::Tuple{Vector{T}, Function}) = filter(f[1], f[2]::Function) == g[1] ? (f[1], (x) -> f[2](x) && g[2](x) ) : @fail \"Invalid composition\"\n",
    "\n",
    "    dom(f::Tuple{Vector{T}, Function}) = :(get_random($(f[1])))\n",
    "\n",
    "    codom(f::Tuple{Vector{T}, Function}) = :(get_random($(filter(f[1],f[2]::Function))))\n",
    "end"
   ]
  },
  {
   "cell_type": "code",
   "execution_count": 43,
   "metadata": {},
   "outputs": [
    {
     "ename": "MethodError",
     "evalue": "MethodError: no method matching Ob(::GATlab.Syntax.TheoryInterface.WithModel{TestCaseSamplerC2{FirstTestCase}}, ::Vector{SecondTestCase}; context::Nothing)\n\nClosest candidates are:\n  Ob(!Matched::GATlab.Syntax.TheoryInterface.WithModel{OpC{ObT, HomT, C}}, ::ObT; context) where {ObT, HomT, C}\n   @ GATlab none:0\n  Ob(!Matched::GATlab.Syntax.TheoryInterface.WithModel{TestCaseSamplerC{T}}, ::Vector{T}; context) where T\n   @ Main none:0\n  Ob(::GATlab.Syntax.TheoryInterface.WithModel{TestCaseSamplerC2{T}}, !Matched::Vector{T}; context) where T\n   @ Main none:0\n",
     "output_type": "error",
     "traceback": [
      "MethodError: no method matching Ob(::GATlab.Syntax.TheoryInterface.WithModel{TestCaseSamplerC2{FirstTestCase}}, ::Vector{SecondTestCase}; context::Nothing)\n",
      "\n",
      "Closest candidates are:\n",
      "  Ob(!Matched::GATlab.Syntax.TheoryInterface.WithModel{OpC{ObT, HomT, C}}, ::ObT; context) where {ObT, HomT, C}\n",
      "   @ GATlab none:0\n",
      "  Ob(!Matched::GATlab.Syntax.TheoryInterface.WithModel{TestCaseSamplerC{T}}, ::Vector{T}; context) where T\n",
      "   @ Main none:0\n",
      "  Ob(::GATlab.Syntax.TheoryInterface.WithModel{TestCaseSamplerC2{T}}, !Matched::Vector{T}; context) where T\n",
      "   @ Main none:0\n",
      "\n",
      "\n",
      "Stacktrace:\n",
      " [1] (::GATlab.Stdlib.StdTheories.var\"#1#3\"{GATlab.Stdlib.StdTheories.var\"#1#2#4\"{TestCaseSamplerC2{FirstTestCase}}})(args::Vector{SecondTestCase}; context::Nothing)\n",
      "   @ GATlab.Stdlib.StdTheories C:\\Users\\Paulius\\.julia\\packages\\GATlab\\M0FGy\\src\\syntax\\TheoryInterface.jl:139\n",
      " [2] (::GATlab.Stdlib.StdTheories.var\"#1#3\"{GATlab.Stdlib.StdTheories.var\"#1#2#4\"{TestCaseSamplerC2{FirstTestCase}}})(args::Vector{SecondTestCase})\n",
      "   @ GATlab.Stdlib.StdTheories C:\\Users\\Paulius\\.julia\\packages\\GATlab\\M0FGy\\src\\syntax\\TheoryInterface.jl:139\n",
      " [3] make_object(type::Type, object::Vector{SecondTestCase})\n",
      "   @ Main c:\\Users\\Paulius\\Documents\\kursinis\\julia\\try.ipynb:2\n",
      " [4] top-level scope\n",
      "   @ c:\\Users\\Paulius\\Documents\\kursinis\\julia\\try.ipynb:10"
     ]
    }
   ],
   "source": [
    "function make_object(type::Type, object)\n",
    "    GATlab.ThCategory.Ob[TestCaseSamplerC2{type}()](object)\n",
    "end\n",
    "\n",
    "function make_morphism(type::Type, hom, dom, codom)\n",
    "    GATlab.ThCategory.Hom[TestCaseSamplerC2{type}()](hom, dom, codom)\n",
    "end\n",
    "\n",
    "make_object(FirstTestCase, all_same)\n",
    "make_object(FirstTestCase, initial_testcases)\n",
    "\n",
    "make_morphism(FirstTestCase, (initial_testcases,(x) -> x.input[1] == x.input[2] == x.input[3] ), initial_testcases, all_same)"
   ]
  },
  {
   "cell_type": "code",
   "execution_count": 53,
   "metadata": {},
   "outputs": [
    {
     "data": {
      "text/plain": [
       "FirstTestCase((1, 1, 1), 1)"
      ]
     },
     "metadata": {},
     "output_type": "display_data"
    }
   ],
   "source": [
    "initial_testcases = initialize_testcases(10, (x,y,z) -> true)\n",
    "all_same = filter(initial_testcases, (x) -> x.input[1] == x.input[2] == x.input[3])\n",
    "all_same_positive = filter(all_same, (x) -> x.input[1] > 0)\n",
    "\n",
    "two_same = filter(initial_testcases, (x) -> (x.input[1] == x.input[2] != x.input[3]) ||  (x.input[1] == x.input[3] != x.input[2]) || (x.input[2] == x.input[3] != x.input[1]))\n",
    "\n",
    "all_different = filter(initial_testcases, (x) -> (x.input[1] != x.input[2]) && ( x.input[1] != x.input[3]) && (x.input[2] != x.input[3]))\n",
    "\n",
    "initial = GATlab.ThCategory.Ob[TestCaseSamplerC2{FirstTestCase}()](initial_testcases)\n",
    "\n",
    "filtered_objects1 = GATlab.ThCategory.Ob[TestCaseSamplerC2{FirstTestCase}()](all_same)\n",
    "filtered_objects2 = GATlab.ThCategory.Ob[TestCaseSamplerC2{FirstTestCase}()](all_same_positive)\n",
    "\n",
    "filtered_objects3 = GATlab.ThCategory.Ob[TestCaseSamplerC2{FirstTestCase}()](two_same)\n",
    "\n",
    "f = GATlab.ThCategory.Hom[TestCaseSamplerC2{FirstTestCase}()]((initial_testcases, (x) -> x.input[1] == x.input[2] == x.input[3]), initial_testcases, all_same)\n",
    "g = GATlab.ThCategory.Hom[TestCaseSamplerC2{FirstTestCase}()]((all_same, (x) -> x.input[1] > 0), all_same, all_same_positive)\n",
    "\n",
    "h = GATlab.ThCategory.Hom[TestCaseSamplerC2{FirstTestCase}()]((initial_testcases, (x) -> (x.input[1] == x.input[2] != x.input[3]) ||  (x.input[1] == x.input[3] != x.input[2]) || (x.input[2] == x.input[3] != x.input[1])), initial_testcases, two_same)\n",
    "id = GATlab.ThCategory.id[TestCaseSamplerC2{FirstTestCase}()](initial_testcases)\n",
    "\n",
    "e = GATlab.ThCategory.Hom[TestCaseSamplerC2{FirstTestCase}()]((initial_testcases, (x) -> (x.input[1] != x.input[2]) && ( x.input[1] != x.input[3]) && (x.input[2] != x.input[3])), initial_testcases, all_different)\n",
    "\n",
    "\n",
    "\n",
    "\n",
    "comp = GATlab.ThCategory.compose[TestCaseSamplerC2{FirstTestCase}()](f,g)\n",
    "\n",
    "codom = GATlab.ThCategory.codom[TestCaseSamplerC2{FirstTestCase}()](e)\n",
    "\n",
    "eval(filtered_objects1)\n",
    "\n",
    "# Atvejis, kai galimi keli atsakymai\n"
   ]
  },
  {
   "cell_type": "code",
   "execution_count": 40,
   "metadata": {},
   "outputs": [
    {
     "data": {
      "text/plain": [
       "SecondTestCase(7, 1)"
      ]
     },
     "metadata": {},
     "output_type": "display_data"
    }
   ],
   "source": [
    "function initialize_testcases2(limit::Int)\n",
    "    testcases = [SecondTestCase(i, i % 2) for i in -limit:limit]\n",
    "    return reduce(vcat,testcases)\n",
    "end\n",
    "\n",
    "initial_testcases = initialize_testcases2(50)\n",
    "\n",
    "even = filter(initial_testcases, (x) -> x.input % 2 == 0)\n",
    "odd = filter(initial_testcases, (x) -> x.input % 2 == 1)\n",
    "\n",
    "f = GATlab.ThCategory.Hom[TestCaseSamplerC2{SecondTestCase}()]((initial_testcases, (x) -> x.input % 2 == 0), initial_testcases, even)\n",
    "g = GATlab.ThCategory.Hom[TestCaseSamplerC2{SecondTestCase}()]((initial_testcases, (x) -> x.input % 2 == 1), initial_testcases, odd)\n",
    "\n",
    "codom = GATlab.ThCategory.codom[TestCaseSamplerC2{SecondTestCase}()](g)\n",
    "\n",
    "eval(codom)"
   ]
  },
  {
   "cell_type": "code",
   "execution_count": null,
   "metadata": {},
   "outputs": [],
   "source": [
    "function initialize_testcases2(limit::Int)\n",
    "    testcases = [SecondTestCase(i, i % 2) for i in -limit:limit]\n",
    "    return reduce(vcat,testcases)\n",
    "end\n",
    "\n",
    "initial_testcases = initialize_testcases2(50)\n",
    "\n",
    "even = filter(initial_testcases, (x) -> x.input % 2 == 0)\n",
    "odd = filter(initial_testcases, (x) -> x.input % 2 == 1)\n",
    "\n",
    "f = GATlab.ThCategory.Hom[TestCaseSamplerC2{SecondTestCase}()]((initial_testcases, (x) -> x.input % 2 == 0), initial_testcases, even)\n",
    "g = GATlab.ThCategory.Hom[TestCaseSamplerC2{SecondTestCase}()]((initial_testcases, (x) -> x.input % 2 == 1), initial_testcases, odd)\n",
    "\n",
    "codom = GATlab.ThCategory.codom[TestCaseSamplerC2{SecondTestCase}()](g)\n",
    "\n",
    "eval(codom)"
   ]
  },
  {
   "cell_type": "code",
   "execution_count": null,
   "metadata": {},
   "outputs": [
    {
     "data": {
      "text/plain": [
       "FirstTestCase((9, 7, 5), 9)"
      ]
     },
     "metadata": {},
     "output_type": "display_data"
    }
   ],
   "source": [
    "testcases = [1,2,3,4,5]\n",
    "\n",
    "a = GATlab.ThThinCategory.Ob[TestCaseSamplerC2{FirstTestCase}()](testcases1)\n",
    "b = GATlab.ThThinCategory.Ob[TestCaseSamplerC2{FirstTestCase}()](testcases2)\n",
    "c = GATlab.ThThinCategory.Ob[TestCaseSamplerC2{FirstTestCase}()](testcases3)\n",
    "\n",
    "# f = GATlab.ThThinCategory.Hom[TestCaseSamplerC{Int}()]((testcases,testcases), testcases, testcases)\n",
    "\n",
    "# id = GATlab.ThThinCategory.id[TestCaseSamplerC{Int}()](testcases)\n",
    "# GATlab.ThThinCategory.Ob[TestCaseSamplerC{Int}()](GATlab.ThThinCategory.codom[TestCaseSamplerC{Int}()](f))\n",
    "eval(a)"
   ]
  },
  {
   "cell_type": "code",
   "execution_count": null,
   "metadata": {},
   "outputs": [],
   "source": [
    "const SampleSize = 50\n",
    "\n",
    "object_set = \n",
    "\n",
    "GATlab.ThThinCategory.Ob[FirstTestSuiteC()]"
   ]
  },
  {
   "cell_type": "code",
   "execution_count": 309,
   "metadata": {},
   "outputs": [
    {
     "data": {
      "text/plain": [
       ":((GATlab.ThThinCategory.Ob[TestCaseSamplerC{FirstTestCase}()])(testcases1))"
      ]
     },
     "metadata": {},
     "output_type": "display_data"
    }
   ],
   "source": [
    "@macroexpand (GATlab.ThThinCategory.Ob[TestCaseSamplerC{FirstTestCase}()](testcases1))"
   ]
  }
 ],
 "metadata": {
  "kernelspec": {
   "display_name": "Julia 1.9.4",
   "language": "julia",
   "name": "julia-1.9"
  },
  "language_info": {
   "file_extension": ".jl",
   "mimetype": "application/julia",
   "name": "julia",
   "version": "1.9.4"
  }
 },
 "nbformat": 4,
 "nbformat_minor": 2
}
