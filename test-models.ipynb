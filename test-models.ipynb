{
 "cells": [
  {
   "cell_type": "code",
   "execution_count": 1,
   "metadata": {},
   "outputs": [],
   "source": [
    "using GATlab"
   ]
  },
  {
   "cell_type": "code",
   "execution_count": 2,
   "metadata": {},
   "outputs": [],
   "source": [
    "# Generic test case type that other test cases inherit from\n",
    "\n",
    "struct TestCase{T, O}\n",
    "    input::T\n",
    "    expectedOutput::O\n",
    "end"
   ]
  },
  {
   "cell_type": "code",
   "execution_count": 3,
   "metadata": {},
   "outputs": [
    {
     "data": {
      "text/plain": [
       "##docsink#304 (generic function with 0 methods)"
      ]
     },
     "metadata": {},
     "output_type": "display_data"
    }
   ],
   "source": [
    "# Test case type for task of finding the greatest integer out of three integers.\n",
    "\n",
    "const FirstTestCase = TestCase{Tuple{Int, Int, Int}, Int}\n",
    "\n",
    "example1 = FirstTestCase((1,2,3), 3)\n",
    "\n",
    "struct FirstTestSuiteC <: Model{Tuple{FirstTestCase, Tuple{FirstTestCase, FirstTestCase}}} end\n",
    "\n",
    "# Function for determining whether two tuples are permutations of each other.\n",
    "\n",
    "function is_permutation(tuple_l::Tuple, tuple_r::Tuple) :: Bool \n",
    "    return sort(collect(tuple_l)) == sort(collect(tuple_r))\n",
    "end\n",
    "\n",
    "# Test suite model for the first task\n",
    "# An object is valid, if it is a valid test case of the task, i.e. if the expected output matches the maximum integer in input tuple.\n",
    "# A morphism is a tuple of domain and codomain test cases. It is valid, if the domains and codomain test cases are permutations of each other.\n",
    "# Composition of morphisms is valid, if codomain of the first morphism matches the domain of the second morphism.\n",
    "\n",
    "@instance GATlab.ThThinCategory{FirstTestCase, Tuple{FirstTestCase, FirstTestCase}} [model::FirstTestSuiteC] begin\n",
    "\n",
    "    Ob(x::FirstTestCase) = maximum(x.input) == x.expectedOutput ? x : @fail \"Invalid test case.\"\n",
    "\n",
    "    function Hom(f::Tuple{FirstTestCase, FirstTestCase}, dom::FirstTestCase, codom::FirstTestCase)\n",
    "        if is_permutation(dom.input, codom.input)\n",
    "            return f\n",
    "        else\n",
    "            @fail \"Test case input arrays are not permutations of each other.\"\n",
    "        end\n",
    "    end\n",
    "\n",
    "    id(testcase::FirstTestCase) = Tuple{FirstTestCase, FirstTestCase}((testcase, testcase))\n",
    "\n",
    "    compose(f::Tuple{FirstTestCase, FirstTestCase}, g::Tuple{FirstTestCase, FirstTestCase}) = \n",
    "                            f[2] == g[1] ? Tuple{FirstTestCase, FirstTestCase}((f[1], g[2])) : @fail \"Domain and codomain of morphisms must match in order to perform composition\"\n",
    "    \n",
    "    dom(f::Tuple{FirstTestCase, FirstTestCase}) = f[1]\n",
    "    codom(f::Tuple{FirstTestCase, FirstTestCase}) = f[2]\n",
    "\n",
    "end"
   ]
  },
  {
   "cell_type": "code",
   "execution_count": 4,
   "metadata": {},
   "outputs": [
    {
     "data": {
      "text/plain": [
       "(FirstTestCase((1, 2, 3), 3), FirstTestCase((3, 1, 2), 3))"
      ]
     },
     "metadata": {},
     "output_type": "display_data"
    }
   ],
   "source": [
    "# Example test cases in the test suite of the first task\n",
    "\n",
    "a = GATlab.ThThinCategory.Ob[FirstTestSuiteC()](FirstTestCase((1,2,3),3))\n",
    "b = GATlab.ThThinCategory.Ob[FirstTestSuiteC()](FirstTestCase((1,3,2),3))\n",
    "c = GATlab.ThThinCategory.Ob[FirstTestSuiteC()](FirstTestCase((3,1,2),3))\n",
    "\n",
    "f = GATlab.ThThinCategory.Hom[FirstTestSuiteC()]((a,b)::Tuple{FirstTestCase, FirstTestCase}, a, b)\n",
    "g = GATlab.ThThinCategory.Hom[FirstTestSuiteC()]((b,c)::Tuple{FirstTestCase, FirstTestCase}, b, c)\n",
    "\n",
    "h = GATlab.ThThinCategory.compose[FirstTestSuiteC()](f,g)"
   ]
  },
  {
   "cell_type": "code",
   "execution_count": 115,
   "metadata": {},
   "outputs": [
    {
     "data": {
      "text/plain": [
       "##docsink#460 (generic function with 0 methods)"
      ]
     },
     "metadata": {},
     "output_type": "display_data"
    }
   ],
   "source": [
    "# Test case for the second task of determining whether an integer is even.\n",
    "\n",
    "const SecondTestCase = TestCase{Int, Int}\n",
    "\n",
    "example2 = SecondTestCase(1,0)\n",
    "\n",
    "struct SecondTestSuiteC <: Model{Tuple{SecondTestCase, Tuple{Int, Int}}} end\n",
    "\n",
    "# Test suite model for the second task.\n",
    "# An object is valid, if it is a valid test case of the task, i.e. if the expected output is 1 when input is an even integer and 0 when input is an odd integer.\n",
    "# A morphism is an addition of an even number to input of the domain test case.\n",
    "# Composition of morphisms adds the sum of two even numbers from two morphisms. It is valid, if the input of the second test case is equal to applied addition to input of first morphism's test case.\n",
    "@instance GATlab.ThThinCategory{SecondTestCase, Tuple{Int, Int}} [model::SecondTestSuiteC] begin\n",
    "    \n",
    "    Ob(x::SecondTestCase) = abs(x.input % 2 - 1) == x.expectedOutput ? x : @fail \"Invalid test case.\"\n",
    "\n",
    "    Hom(f::Tuple{Int, Int}, dom::SecondTestCase, codom::SecondTestCase) = f[2] % 2 == 0 && dom.input + f[2] == codom.input && f[1] == dom.input ? f : @fail \"Invalid morphism\"\n",
    "\n",
    "    id(testcase::SecondTestCase) = (testcase.input, 0)\n",
    "\n",
    "    compose(f::Tuple{Int,Int}, g::Tuple{Int,Int}) = f[1] + f[2] == g[1] ? (f[1], g[1] + g[2] - f[1])::Tuple{Int,Int} : @fail \"Invalid composition\"\n",
    "\n",
    "    dom(f::Tuple{Int, Int}) = f[1]\n",
    "\n",
    "    codom(f::Tuple{Int, Int}) = f[1] + f[2]\n",
    "\n",
    "end"
   ]
  },
  {
   "cell_type": "code",
   "execution_count": 6,
   "metadata": {},
   "outputs": [
    {
     "data": {
      "text/plain": [
       "(1, 4)"
      ]
     },
     "metadata": {},
     "output_type": "display_data"
    }
   ],
   "source": [
    "# Example test cases in the test suite of the second task\n",
    "\n",
    "a = GATlab.ThThinCategory.Ob[SecondTestSuiteC()](SecondTestCase(1,0))\n",
    "b = GATlab.ThThinCategory.Ob[SecondTestSuiteC()](SecondTestCase(2,1))\n",
    "c = GATlab.ThThinCategory.Ob[SecondTestSuiteC()](SecondTestCase(3,0))\n",
    "d = GATlab.ThThinCategory.Ob[SecondTestSuiteC()](SecondTestCase(5,0))\n",
    "\n",
    "\n",
    "f = GATlab.ThThinCategory.Hom[SecondTestSuiteC()]((a.input,2)::Tuple{Int, Int}, a, c)\n",
    "g = GATlab.ThThinCategory.Hom[SecondTestSuiteC()]((c.input,2)::Tuple{Int, Int}, c, d)\n",
    "\n",
    "h = GATlab.ThThinCategory.compose[SecondTestSuiteC()](f,g)"
   ]
  },
  {
   "cell_type": "code",
   "execution_count": 7,
   "metadata": {},
   "outputs": [
    {
     "data": {
      "text/plain": [
       "##docsink#330 (generic function with 0 methods)"
      ]
     },
     "metadata": {},
     "output_type": "display_data"
    }
   ],
   "source": [
    "# Test case for the third task of calculating the sum of integers in a list.\n",
    "\n",
    "const ThirdTestCase = TestCase{Vector{Int}, Int}\n",
    "\n",
    "example3 = ThirdTestCase([1,2,3,4], 10)\n",
    "\n",
    "struct ThirdTestSuiteC <: Model{Tuple{ThirdTestCase, Tuple{ThirdTestCase, ThirdTestCase}}} end\n",
    "\n",
    "# Test suite model for third task\n",
    "# An object is valid, if it is a valid test case of the task, i.e. expected output is equal to the sum of the integers in the input list.\n",
    "# A morphism is a tuple of domain and codomain test cases. It is valid if the input of codomain test case contains all elements of input in the domain test case.\n",
    "# Composition of morphisms is valid, if codomain of the first morphism matches the domain of the second morphism.\n",
    "\n",
    "@instance GATlab.ThThinCategory{ThirdTestCase, Tuple{ThirdTestCase, ThirdTestCase}} [model::ThirdTestSuiteC] begin\n",
    "    Ob(x::ThirdTestCase) = sum(x.input) == x.expectedOutput ? x : @fail \"Invalid object\"\n",
    "\n",
    "    function Hom(f::Tuple{ThirdTestCase, ThirdTestCase}, dom::ThirdTestCase, codom::ThirdTestCase) \n",
    "        A = f[2].input\n",
    "        B = f[1].input\n",
    "        \n",
    "        count_A = Dict()\n",
    "\n",
    "        for element in A\n",
    "            count_A[element] = get(count_A, element, 0) + 1\n",
    "        end\n",
    "\n",
    "        for element in B\n",
    "            if !haskey(count_A, element) || count_A[element] == 0\n",
    "                @fail \"Invalid morphism\"\n",
    "            else\n",
    "                count_A[element] -= 1\n",
    "            end\n",
    "        end\n",
    "    \n",
    "        return f\n",
    "    end\n",
    "\n",
    "    id(x::ThirdTestCase) = (x, x)\n",
    "\n",
    "    compose(f::Tuple{ThirdTestCase, ThirdTestCase}, g::Tuple{ThirdTestCase, ThirdTestCase}) = f[2] == g[1] ? (f[1], g[2]) : @fail \"Invalid composition\"\n",
    "\n",
    "    dom(f::Tuple{ThirdTestCase, ThirdTestCase}) = f[1]\n",
    "\n",
    "    codom(f::Tuple{ThirdTestCase, ThirdTestCase}) = f[2]\n",
    "end"
   ]
  },
  {
   "cell_type": "code",
   "execution_count": 8,
   "metadata": {},
   "outputs": [
    {
     "name": "stdout",
     "output_type": "stream",
     "text": [
      "ThirdTestCase([1], 1)ThirdTestCase([1, 3], 4)"
     ]
    }
   ],
   "source": [
    "# Example test cases in the test suite of the third task\n",
    "\n",
    "a = GATlab.ThThinCategory.Ob[ThirdTestSuiteC()](ThirdTestCase([1],1))\n",
    "b = GATlab.ThThinCategory.Ob[ThirdTestSuiteC()](ThirdTestCase([1,3],4))\n",
    "c = GATlab.ThThinCategory.Ob[ThirdTestSuiteC()](ThirdTestCase([1,3,6],10))\n",
    "\n",
    "f = GATlab.ThThinCategory.Hom[ThirdTestSuiteC()]((a,b),a,b)\n",
    "g = GATlab.ThThinCategory.Hom[ThirdTestSuiteC()]((b,c),b,c) \n",
    "id = GATlab.ThThinCategory.id[ThirdTestSuiteC()](b)\n",
    "\n",
    "composition = GATlab.ThThinCategory.compose[ThirdTestSuiteC()](f,id)\n",
    "\n",
    "dom = GATlab.ThThinCategory.dom[ThirdTestSuiteC()](composition)\n",
    "codom = GATlab.ThThinCategory.codom[ThirdTestSuiteC()](composition)\n",
    "\n",
    "show(dom)\n",
    "show(codom)"
   ]
  },
  {
   "cell_type": "code",
   "execution_count": 9,
   "metadata": {},
   "outputs": [
    {
     "data": {
      "text/plain": [
       "##docsink#343 (generic function with 0 methods)"
      ]
     },
     "metadata": {},
     "output_type": "display_data"
    }
   ],
   "source": [
    "# Test case for the fourth task of reversing a finite list.\n",
    "\n",
    "const FourthTestCase = TestCase{Vector{Int}, Vector{Int}}\n",
    "\n",
    "example4 = FourthTestCase([1,3,2],[2,3,1])\n",
    "\n",
    "struct FourthTestSuiteC <: Model{Tuple{FourthTestCase, Tuple{FourthTestCase, FourthTestCase}}} end\n",
    "\n",
    "# Test suite model for fourth task\n",
    "# An object is valid, if it is a valid test case of the task, i.e. expected output is the reversed input list\n",
    "# A morphism is a tuple of domain and codomain test cases. It is valid the codomain test case input contains all elements as a subsequence of the domain test case input.\n",
    "# Composition of morphisms is valid, if codomain of the first morphism matches the domain of the second morphism.\n",
    "\n",
    "@instance GATlab.ThThinCategory{FourthTestCase, Tuple{FourthTestCase, FourthTestCase}} [model::FourthTestSuiteC] begin\n",
    "    Ob(x::FourthTestCase) = x.input == reverse(x.expectedOutput) ? x : @fail \"Invalid object\"\n",
    "\n",
    "    function Hom(f::Tuple{FourthTestCase, FourthTestCase}, dom::FourthTestCase, codom::FourthTestCase)\n",
    "        dom_input = f[1].input\n",
    "        codom_input = f[2].input\n",
    "\n",
    "        dom_expectedoutput = f[1].expectedOutput\n",
    "        codom_expectedoutput = f[2].expectedOutput\n",
    "\n",
    "        if length(dom_input) > length(codom_input) || any(dom_input[i] != codom_input[i] for i in 1:length(dom_input))\n",
    "            @fail \"Domain input array is not a subsequence of codomain input array\"\n",
    "        end\n",
    "    \n",
    "        if length(dom_expectedoutput) > length(codom_expectedoutput)\n",
    "           @fail \"domain expected output array is not a subsequence of codomain expected output array\" \n",
    "        end\n",
    "        \n",
    "        for i in 1:length(dom_expectedoutput) \n",
    "            if dom_expectedoutput[i] != codom_expectedoutput[i+length(codom_expectedoutput)-length(dom_expectedoutput)]\n",
    "                @fail \"domain expected output array is not a subarray of codomain expected output array\"\n",
    "            end\n",
    "        end\n",
    "\n",
    "        return f\n",
    "    end\n",
    "\n",
    "    id(x::FourthTestCase) = (x, x)\n",
    "\n",
    "    compose(f::Tuple{FourthTestCase, FourthTestCase}, g::Tuple{FourthTestCase, FourthTestCase}) = f[2] == g[1] ? (f[1], g[2]) : @fail \"Invalid composition\"\n",
    "\n",
    "    dom(f::Tuple{FourthTestCase, FourthTestCase}) = f[1]\n",
    "\n",
    "    codom(f::Tuple{FourthTestCase, FourthTestCase}) = f[2]\n",
    "end"
   ]
  },
  {
   "cell_type": "code",
   "execution_count": 10,
   "metadata": {},
   "outputs": [
    {
     "name": "stdout",
     "output_type": "stream",
     "text": [
      "FourthTestCase([1, 3, 2], [2, 3, 1])FourthTestCase([1, 3, 2, 4, 8], [8, 4, 2, 3, 1])"
     ]
    }
   ],
   "source": [
    "# Example test cases in the test suite of the fourth task\n",
    "\n",
    "a = GATlab.ThThinCategory.Ob[FourthTestSuiteC()](FourthTestCase([1,2,3],[3,2,1]))\n",
    "b = GATlab.ThThinCategory.Ob[FourthTestSuiteC()](FourthTestCase([1,3,2],[2,3,1]))\n",
    "c = GATlab.ThThinCategory.Ob[FourthTestSuiteC()](FourthTestCase([1,3,2,4],[4,2,3,1]))\n",
    "d = GATlab.ThThinCategory.Ob[FourthTestSuiteC()](FourthTestCase([1,3,2,4,8],[8,4,2,3,1]))\n",
    "\n",
    "f = GATlab.ThThinCategory.Hom[FourthTestSuiteC()]((b,c), b, c)\n",
    "g = GATlab.ThThinCategory.Hom[FourthTestSuiteC()]((c,d), c, d)\n",
    "\n",
    "h = GATlab.ThThinCategory.Hom[FourthTestSuiteC()]((b,d), b, d)\n",
    "id = GATlab.ThThinCategory.id[FourthTestSuiteC()](a)\n",
    "\n",
    "compose = GATlab.ThThinCategory.compose[FourthTestSuiteC()](f,g)\n",
    "\n",
    "dom = GATlab.ThThinCategory.dom[FourthTestSuiteC()](compose)\n",
    "codom = GATlab.ThThinCategory.codom[FourthTestSuiteC()](compose)\n",
    "\n",
    "show(dom)\n",
    "show(codom)\n",
    "\n"
   ]
  },
  {
   "cell_type": "code",
   "execution_count": 11,
   "metadata": {},
   "outputs": [
    {
     "data": {
      "text/plain": [
       "##docsink#356 (generic function with 0 methods)"
      ]
     },
     "metadata": {},
     "output_type": "display_data"
    }
   ],
   "source": [
    "# Test case for the fifth task of sorting a finite list in ascending order.\n",
    "\n",
    "const FifthTestCase = TestCase{Vector{Int}, Vector{Int}}\n",
    "\n",
    "example5 = FifthTestCase([1,3,2],[1,2,3])\n",
    "\n",
    "struct FifthTestSuiteC <: Model{Tuple{FifthTestCase, Tuple{FifthTestCase, FifthTestCase}}} end\n",
    "\n",
    "# Test suite model for fifth task\n",
    "# An object is valid, if it is a valid test case of the task, i.e. expected output list is equal to sorted input list.\n",
    "# A morphism is a tuple of domain and codomain test cases. It is valid if input of codomain test case contains all elements of input of domain test case.\n",
    "# Composition of morphisms is valid, if codomain of the first morphism matches the domain of the second morphism.\n",
    "\n",
    "@instance GATlab.ThThinCategory{FifthTestCase, Tuple{FifthTestCase, FifthTestCase}} [model::FifthTestSuiteC] begin\n",
    "    Ob(x::FifthTestCase) = sort(x.input) == x.expectedOutput ? x : @fail \"Invalid object\"\n",
    "    \n",
    "    function Hom(f::Tuple{FifthTestCase, FifthTestCase}, dom::FifthTestCase, codom::FifthTestCase)\n",
    "        A = f[2].input\n",
    "        B = f[1].input\n",
    "        \n",
    "        count_A = Dict()\n",
    "\n",
    "        for element in A\n",
    "            count_A[element] = get(count_A, element, 0) + 1\n",
    "        end\n",
    "\n",
    "        for element in B\n",
    "            if !haskey(count_A, element) || count_A[element] == 0\n",
    "                @fail \"Invalid morphism\"\n",
    "            else\n",
    "                count_A[element] -= 1\n",
    "            end\n",
    "        end\n",
    "    \n",
    "        return f\n",
    "    end\n",
    "\n",
    "    id(x::FifthTestCase) = (x, x)\n",
    "\n",
    "    compose(f::Tuple{FifthTestCase, FifthTestCase}, g::Tuple{FifthTestCase, FifthTestCase}) = f[2] == g[1] ? (f[1], g[2]) : @fail \"Invalid composition\"\n",
    "\n",
    "    dom(f::Tuple{FifthTestCase, FifthTestCase}) = f[1]\n",
    "\n",
    "    codom(f::Tuple{FifthTestCase, FifthTestCase}) = f[2]\n",
    "end"
   ]
  },
  {
   "cell_type": "code",
   "execution_count": 12,
   "metadata": {},
   "outputs": [
    {
     "name": "stdout",
     "output_type": "stream",
     "text": [
      "TestCase{Vector{"
     ]
    },
    {
     "name": "stdout",
     "output_type": "stream",
     "text": [
      "Int64}, Vector{Int64}}([1, 3, 2], [1, 2, 3])TestCase{Vector{Int64}, Vector{Int64}}([1, 3, 2], [1, 2, 3])"
     ]
    }
   ],
   "source": [
    "# Example test cases in the test suite of the fifth task\n",
    "\n",
    "a = GATlab.ThThinCategory.Ob[FifthTestSuiteC()](FifthTestCase([1,3,2],[1,2,3]))\n",
    "b = GATlab.ThThinCategory.Ob[FifthTestSuiteC()](FifthTestCase([3,1,2],[1,2,3]))\n",
    "c = GATlab.ThThinCategory.Ob[FifthTestSuiteC()](FifthTestCase([1,3,2,4],[1,2,3,4]))\n",
    "d = GATlab.ThThinCategory.Ob[FifthTestSuiteC()](FifthTestCase([1,2,2,4],[1,2,2,4]))\n",
    "\n",
    "f = GATlab.ThThinCategory.Hom[FifthTestSuiteC()]((a,b), a, b)\n",
    "g = GATlab.ThThinCategory.Hom[FifthTestSuiteC()]((b,c), b, c)\n",
    "\n",
    "id = GATlab.ThThinCategory.id[FifthTestSuiteC()](a)\n",
    "\n",
    "composition = GATlab.ThThinCategory.compose[FifthTestSuiteC()](f,g)\n",
    "\n",
    "dom = GATlab.ThThinCategory.dom[FifthTestSuiteC()](composition)\n",
    "\n",
    "codom = GATlab.ThThinCategory.dom[FifthTestSuiteC()](composition)\n",
    "\n",
    "show(dom)\n",
    "show(codom)"
   ]
  },
  {
   "cell_type": "code",
   "execution_count": 13,
   "metadata": {},
   "outputs": [
    {
     "data": {
      "text/plain": [
       "##docsink#369 (generic function with 0 methods)"
      ]
     },
     "metadata": {},
     "output_type": "display_data"
    }
   ],
   "source": [
    "# Test case for the sixth task of concatenating finite lists.\n",
    "\n",
    "const SixthTestCase = TestCase{Vector{Vector{Int}}, Vector{Int}}\n",
    "\n",
    "example6 = SixthTestCase([[1,2],[3,4]],[1,2,3,4])\n",
    "\n",
    "struct SixthTestSuiteC <: Model{Tuple{SixthTestCase, Tuple{SixthTestCase, SixthTestCase}}} end\n",
    "\n",
    "# Test suite model for sixth task\n",
    "# An object is valid, if it is a valid test case of the task, i.e. expected output is a concatenated list of input lists.\n",
    "# A morphism is a tuple of domain and codomain test cases. It is valid if concatenated input lists of domain test case is a subsequence of domain test case concatenated input list. \n",
    "# Composition of morphisms is valid, if codomain of the first morphism matches the domain of the second morphism.\n",
    "\n",
    "@instance GATlab.ThThinCategory{SixthTestCase, Tuple{SixthTestCase, SixthTestCase}} [model::SixthTestSuiteC] begin\n",
    "    Ob(x::SixthTestCase) = collect(Base.Iterators.Flatten(x.input)) == x.expectedOutput ? x : @fail \"Invalid object\"\n",
    "\n",
    "    function Hom(f::Tuple{SixthTestCase, SixthTestCase}, dom::SixthTestCase, codom::SixthTestCase) \n",
    "        dom_flatinput = collect(Base.Iterators.Flatten(f[1].input))\n",
    "        codom_flatinput = collect(Base.Iterators.Flatten(f[2].input))\n",
    "\n",
    "        if length(dom_flatinput) > length(codom_flatinput) || any(dom_flatinput[i] != codom_flatinput[i] for i in 1:length(dom_flatinput))\n",
    "            @fail \"Domain input array is not a subsequence of codomain input array\"\n",
    "        end\n",
    "\n",
    "        return f\n",
    "    end\n",
    "    \n",
    "    id(x::SixthTestCase) = (x, x)\n",
    "\n",
    "    compose(f::Tuple{SixthTestCase, SixthTestCase}, g::Tuple{SixthTestCase, SixthTestCase}) = f[2] == g[1] ? (f[1], g[2]) : @fail \"Invalid composition\"\n",
    "\n",
    "    dom(f::Tuple{SixthTestCase, SixthTestCase}) = f[1]\n",
    "\n",
    "    codom(f::Tuple{SixthTestCase, SixthTestCase}) = f[2]\n",
    "end"
   ]
  },
  {
   "cell_type": "code",
   "execution_count": 14,
   "metadata": {},
   "outputs": [
    {
     "name": "stdout",
     "output_type": "stream",
     "text": [
      "SixthTestCase([[1, 3, 2]], [1, 3, 2])SixthTestCase([[1, 3], [2, 2]], [1, 3, 2, 2])"
     ]
    }
   ],
   "source": [
    "# Example test cases in the test suite of the sixth task\n",
    "\n",
    "a = GATlab.ThThinCategory.Ob[SixthTestSuiteC()](SixthTestCase([[1,3,2]],[1,3,2]))\n",
    "b = GATlab.ThThinCategory.Ob[SixthTestSuiteC()](SixthTestCase([[1,3],[2]],[1,3,2]))\n",
    "c = GATlab.ThThinCategory.Ob[SixthTestSuiteC()](SixthTestCase([[1,3],[2,2]],[1,3,2,2]))\n",
    "\n",
    "f = GATlab.ThThinCategory.Hom[SixthTestSuiteC()]((a,b),a,b)\n",
    "g = GATlab.ThThinCategory.Hom[SixthTestSuiteC()]((b,c),b,c)\n",
    "\n",
    "id = GATlab.ThThinCategory.id[SixthTestSuiteC()](a)\n",
    "\n",
    "composition = GATlab.ThThinCategory.compose[SixthTestSuiteC()](f,g)\n",
    "\n",
    "dom = GATlab.ThThinCategory.dom[SixthTestSuiteC()](composition)\n",
    "\n",
    "codom = GATlab.ThThinCategory.codom[SixthTestSuiteC()](composition)\n",
    "\n",
    "show(dom)\n",
    "show(codom)\n"
   ]
  },
  {
   "cell_type": "code",
   "execution_count": 15,
   "metadata": {},
   "outputs": [
    {
     "data": {
      "text/plain": [
       "##docsink#382 (generic function with 0 methods)"
      ]
     },
     "metadata": {},
     "output_type": "display_data"
    }
   ],
   "source": [
    "# Test case for the seventh task of counting the number of occurances of an element in a finite list.\n",
    "\n",
    "const SeventhTestCase = TestCase{Tuple{Vector{Int}, Int}, Int}\n",
    "\n",
    "example7 = SeventhTestCase(([1,2,2,3],2),2)\n",
    "\n",
    "struct SeventhTestSuiteC <: Model{Tuple{SeventhTestCase, Tuple{SeventhTestCase, SeventhTestCase}}} end\n",
    "\n",
    "# Test suite model for seventh task\n",
    "# An object is valid, if it is a valid test case of the task, i.e. expceted output matches the count of provided integer in input list.\n",
    "# A morphism is a tuple of domain and codomain test cases. It is valid if the counted numbers match of domain and codomain test cases and if codomain input array contains all elements of domain input array.\n",
    "# Composition of morphisms is valid, if codomain of the first morphism matches the domain of the second morphism.\n",
    "\n",
    "@instance GATlab.ThThinCategory{SeventhTestCase, Tuple{SeventhTestCase, SeventhTestCase}} [model::SeventhTestSuiteC] begin\n",
    "    Ob(x::SeventhTestCase) = count(y -> y == x.input[2], x.input[1]) == x.expectedOutput ? x : @fail \"Invalid object\"\n",
    "\n",
    "    function Hom(f::Tuple{SeventhTestCase, SeventhTestCase}, dom::SeventhTestCase, codom::SeventhTestCase)\n",
    "        dom_inputvec = f[1].input[1]\n",
    "        codom_inputvec = f[2].input[1]\n",
    "\n",
    "        dom_countednumber = f[1].input[2]\n",
    "        codom_countednumber = f[1].input[2]\n",
    "        \n",
    "        count_codom_inputvec = Dict()\n",
    "\n",
    "        if dom_countednumber != codom_countednumber\n",
    "            @fail \"Counted number don't match\"\n",
    "        end\n",
    "\n",
    "        for element in codom_inputvec\n",
    "            count_codom_inputvec[element] = get(count_codom_inputvec, element, 0) + 1\n",
    "        end\n",
    "\n",
    "        for element in dom_inputvec\n",
    "            if !haskey(count_codom_inputvec, element) || count_codom_inputvec[element] == 0\n",
    "                @fail \"Invalid morphism\"\n",
    "            else\n",
    "                count_codom_inputvec[element] -= 1\n",
    "            end\n",
    "        end\n",
    "    \n",
    "        return f\n",
    "    end\n",
    "\n",
    "    compose(f::Tuple{SeventhTestCase, SeventhTestCase}, g::Tuple{SeventhTestCase, SeventhTestCase}) = f[2] == g[1] ? (f[1], g[2]) : @fail \"Invalid composition\"\n",
    "\n",
    "    id(x::SeventhTestCase) = (x,x)\n",
    "\n",
    "    dom(f::Tuple{SeventhTestCase, SeventhTestCase}) = f[1]\n",
    "\n",
    "    codom(f::Tuple{SeventhTestCase, SeventhTestCase}) = f[2]\n",
    "end"
   ]
  },
  {
   "cell_type": "code",
   "execution_count": 16,
   "metadata": {},
   "outputs": [
    {
     "name": "stdout",
     "output_type": "stream",
     "text": [
      "SeventhTestCase"
     ]
    },
    {
     "name": "stdout",
     "output_type": "stream",
     "text": [
      "(([1, 3, 2], 2), 1)SeventhTestCase(([1, 2, 3, 2], 2), 2)"
     ]
    }
   ],
   "source": [
    "# Example test cases in the test suite of the seventh task\n",
    "\n",
    "a = GATlab.ThThinCategory.Ob[SeventhTestSuiteC()](SeventhTestCase(([1,3,2], 2),1))\n",
    "b = GATlab.ThThinCategory.Ob[SeventhTestSuiteC()](SeventhTestCase(([1,2,3], 2),1))\n",
    "c = GATlab.ThThinCategory.Ob[SeventhTestSuiteC()](SeventhTestCase(([1,2,3,2], 2),2))\n",
    "\n",
    "f = GATlab.ThThinCategory.Hom[SeventhTestSuiteC()]((a,b), a, b)\n",
    "g = GATlab.ThThinCategory.Hom[SeventhTestSuiteC()]((b,c), b, c)\n",
    "\n",
    "id = GATlab.ThThinCategory.id[SeventhTestSuiteC()](a)\n",
    "\n",
    "composition = GATlab.ThThinCategory.compose[SeventhTestSuiteC()](f,g)\n",
    "\n",
    "dom = GATlab.ThThinCategory.dom[SeventhTestSuiteC()](composition)\n",
    "codom = GATlab.ThThinCategory.codom[SeventhTestSuiteC()](composition)\n",
    "\n",
    "show(dom)\n",
    "show(codom)\n",
    "\n"
   ]
  },
  {
   "cell_type": "code",
   "execution_count": 17,
   "metadata": {},
   "outputs": [
    {
     "data": {
      "text/plain": [
       "##docsink#395 (generic function with 0 methods)"
      ]
     },
     "metadata": {},
     "output_type": "display_data"
    }
   ],
   "source": [
    "# Test case for the eighth task of finding the most frequently repeating element in a finite list.\n",
    "\n",
    "const EighthTestCase = TestCase{Vector{Int}, Int} \n",
    "\n",
    "example8 = EighthTestCase(([1,2,2,3,4,4]),2)\n",
    "\n",
    "struct EighthTestSuiteC <: Model{Tuple{EighthTestCase, Tuple{EighthTestCase, EighthTestCase}}} end\n",
    "\n",
    "# Test suite model for eighth task\n",
    "# An object is valid, if it is a valid test case of the task, i.e. expected output is one of the highest integers of the input array.\n",
    "# A morphism is a tuple of domain and codomain test cases. It is valid if the list of codomain test case input is contained by the list of codomain test case input. \n",
    "# Composition of morphisms is valid, if codomain of the first morphism matches the domain of the second morphism.\n",
    "\n",
    "@instance GATlab.ThThinCategory{EighthTestCase, Tuple{EighthTestCase, EighthTestCase}} [model::EighthTestSuiteC] begin\n",
    "    function Ob(x::EighthTestCase)\n",
    "        counts = Dict()\n",
    "        input_vector = x.input\n",
    "        expected_output = x.expectedOutput\n",
    "\n",
    "        if isempty(input_vector)\n",
    "            return x\n",
    "        end\n",
    "\n",
    "        for element in input_vector\n",
    "            counts[element] = get(counts, element, 0) + 1\n",
    "        end\n",
    "        \n",
    "        max_frequency = maximum(values(counts))\n",
    "\n",
    "        most_frequent_elements = [element for (element, count) in counts if count == max_frequency]\n",
    "\n",
    "        if in(expected_output, most_frequent_elements)\n",
    "            return x\n",
    "        end\n",
    "\n",
    "        @fail \"Invalid object.\"\n",
    "    end\n",
    "\n",
    "    function Hom(f::Tuple{EighthTestCase, EighthTestCase}, dom::EighthTestCase, codom::EighthTestCase)\n",
    "        A = f[2].input\n",
    "        B = f[1].input\n",
    "        \n",
    "        count_A = Dict()\n",
    "\n",
    "        for element in A\n",
    "            count_A[element] = get(count_A, element, 0) + 1\n",
    "        end\n",
    "\n",
    "        for element in B\n",
    "            if !haskey(count_A, element) || count_A[element] == 0\n",
    "                @fail \"Invalid morphism\"\n",
    "            else\n",
    "                count_A[element] -= 1\n",
    "            end\n",
    "        end\n",
    "    \n",
    "        return f\n",
    "    end\n",
    "\n",
    "    id(x::EighthTestCase) = (x, x)\n",
    "\n",
    "    compose(f::Tuple{EighthTestCase, EighthTestCase}, g::Tuple{EighthTestCase, EighthTestCase}) = f[2] == g[1] ? (f[1], g[2]) : @fail \"Invalid composition\"\n",
    "\n",
    "    dom(f::Tuple{EighthTestCase, EighthTestCase}) = f[1]\n",
    "\n",
    "    codom(f::Tuple{EighthTestCase, EighthTestCase}) = f[2]\n",
    "end"
   ]
  },
  {
   "cell_type": "code",
   "execution_count": 18,
   "metadata": {},
   "outputs": [
    {
     "name": "stdout",
     "output_type": "stream",
     "text": [
      "TestCase{Vector{Int64}, Int64}([1], 1)TestCase{Vector{Int64}, Int64}([1, 1, 2], 1)"
     ]
    }
   ],
   "source": [
    "# Example test cases in the test suite of the eighth task\n",
    "\n",
    "a = GATlab.ThThinCategory.Ob[EighthTestSuiteC()](EighthTestCase([1],1))\n",
    "b = GATlab.ThThinCategory.Ob[EighthTestSuiteC()](EighthTestCase([1,1],1))\n",
    "c = GATlab.ThThinCategory.Ob[EighthTestSuiteC()](EighthTestCase([1,1,2],1))\n",
    "\n",
    "f = GATlab.ThThinCategory.Hom[EighthTestSuiteC()]((a,b),a,b)\n",
    "g = GATlab.ThThinCategory.Hom[EighthTestSuiteC()]((b,c),b,c)\n",
    "\n",
    "composition = GATlab.ThThinCategory.compose[EighthTestSuiteC()](f,g)\n",
    "\n",
    "id = GATlab.ThThinCategory.id[EighthTestSuiteC()](a)\n",
    "\n",
    "dom = GATlab.ThThinCategory.dom[EighthTestSuiteC()](composition)\n",
    "codom = GATlab.ThThinCategory.codom[EighthTestSuiteC()](composition)\n",
    "\n",
    "show(dom)\n",
    "show(codom)"
   ]
  },
  {
   "cell_type": "code",
   "execution_count": 19,
   "metadata": {},
   "outputs": [
    {
     "data": {
      "text/plain": [
       "##docsink#408 (generic function with 0 methods)"
      ]
     },
     "metadata": {},
     "output_type": "display_data"
    }
   ],
   "source": [
    "# Test case for the ninth task of determining whether a list is a palindrome.\n",
    "\n",
    "const NinthTestCase = TestCase{Vector{Int}, Bool} # Check if a given array is a palindrome\n",
    "\n",
    "example9 = NinthTestCase(([1,2,2,3,4,4]), false)\n",
    "\n",
    "struct NinthTestSuiteC <: Model{Tuple{NinthTestCase, Tuple{NinthTestCase, NinthTestCase}}} end\n",
    "\n",
    "# Test suite model for ninth task\n",
    "# An object is valid, if it is a valid test case of the task, i.e. if the input list is a palindrome and expected output is true or if the input list is not a palindrome and expected output is false.\n",
    "# A morphism is a tuple of domain and codomain test cases. It is valid if these conditions are satisfied: 1) domain and codomain expected outputs match. 2) Input arrays are both either palindrome or not in the domain and codomain lists. 3) If the input lists are palindromes, domain input list should appear in the middle of codomain input list. If the input lists are not palindromes, codomain input list should contain all elements of domain input list\n",
    "# Composition of morphisms is valid, if codomain of the first morphism matches the domain of the second morphism.\n",
    "\n",
    "@instance GATlab.ThThinCategory{NinthTestCase, Tuple{NinthTestCase, NinthTestCase}} [model::NinthTestSuiteC] begin\n",
    "    Ob(x::NinthTestCase) = x.expectedOutput == (reverse(x.input) == x.input) ? x : @fail \"Invalid object\"\n",
    "\n",
    "    # Morphism can add same elements to both sides of vector if the vector is a palindrome.\n",
    "    # It can also add element anywhere if the vector is not a palindrome\n",
    "    function Hom(f::Tuple{NinthTestCase, NinthTestCase}, dom::NinthTestCase, codom::NinthTestCase)  \n",
    "        dom_input = f[1].input\n",
    "        codom_input = f[2].input\n",
    "\n",
    "        if f[1].expectedOutput != f[2].expectedOutput\n",
    "            @fail \"Invalid morphism\"\n",
    "        end\n",
    "\n",
    "        if dom_input == reverse(dom_input) && codom_input != reverse(codom_input)\n",
    "            @fail \"Invalid morphism\"\n",
    "        end\n",
    "\n",
    "        if dom_input != reverse(dom_input) && codom_input == reverse(codom_input)\n",
    "            @fail \"Invalid morphism\"\n",
    "        end\n",
    "\n",
    "        if f[1].expectedOutput == true\n",
    "            for i in 1:(length(codom_input) - length(dom_input) + 1) \n",
    "                if codom_input[i:(i + length(dom_input) - 1)] == dom_input\n",
    "                    return f\n",
    "                end\n",
    "            end\n",
    "        else\n",
    "            if any(dom_input[i] != codom_input[i] for i in 1:length(dom_input))\n",
    "                @fail \"Invalid morphism\"\n",
    "            end\n",
    "            \n",
    "            return f\n",
    "        end\n",
    "    end\n",
    "\n",
    "    id(x::NinthTestCase) = (x, x)\n",
    "\n",
    "    compose(f::Tuple{NinthTestCase, NinthTestCase}, g::Tuple{NinthTestCase, NinthTestCase}) = f[2] == g[1] ? (f[1], g[2]) : @fail \"Invalid composition\"\n",
    "\n",
    "    dom(f::Tuple{NinthTestCase, NinthTestCase}) = f[1]\n",
    "\n",
    "    codom(f::Tuple{NinthTestCase, NinthTestCase}) = f[2]\n",
    "end"
   ]
  },
  {
   "cell_type": "code",
   "execution_count": 20,
   "metadata": {},
   "outputs": [
    {
     "data": {
      "text/plain": [
       "(NinthTestCase([1, 2], false), NinthTestCase([1, 2, 3, 4], false))"
      ]
     },
     "metadata": {},
     "output_type": "display_data"
    }
   ],
   "source": [
    "# Example test cases in the test suite of the ninth task\n",
    "\n",
    "a = GATlab.ThThinCategory.Ob[NinthTestSuiteC()](NinthTestCase([1], true))\n",
    "b = GATlab.ThThinCategory.Ob[NinthTestSuiteC()](NinthTestCase([2,1,2], true))\n",
    "c = GATlab.ThThinCategory.Ob[NinthTestSuiteC()](NinthTestCase([3,2,1,2,3], true))\n",
    "\n",
    "test = GATlab.ThThinCategory.Ob[NinthTestSuiteC()](NinthTestCase([1,2,1], true))\n",
    "\n",
    "f = GATlab.ThThinCategory.Hom[NinthTestSuiteC()]((a,b),a,b)\n",
    "g = GATlab.ThThinCategory.Hom[NinthTestSuiteC()]((b,c),b,c)\n",
    "\n",
    "id = GATlab.ThThinCategory.id[NinthTestSuiteC()](a)\n",
    "\n",
    "compose = GATlab.ThThinCategory.compose[NinthTestSuiteC()](f,g)\n",
    "\n",
    "dom = GATlab.ThThinCategory.dom[NinthTestSuiteC()](compose)\n",
    "codom = GATlab.ThThinCategory.codom[NinthTestSuiteC()](compose)\n",
    "\n",
    "a2 = GATlab.ThThinCategory.Ob[NinthTestSuiteC()](NinthTestCase([1, 2], false))\n",
    "b2 = GATlab.ThThinCategory.Ob[NinthTestSuiteC()](NinthTestCase([1, 2, 3], false))\n",
    "c2 = GATlab.ThThinCategory.Ob[NinthTestSuiteC()](NinthTestCase([1, 2, 3, 4], false))\n",
    "\n",
    "f = GATlab.ThThinCategory.Hom[NinthTestSuiteC()]((a2,b2),a2,b2)\n",
    "g = GATlab.ThThinCategory.Hom[NinthTestSuiteC()]((b2,c2),b2,c2)\n",
    "\n",
    "e = GATlab.ThThinCategory.Hom[NinthTestSuiteC()]((b2,c2),b2,c2)\n",
    "\n",
    "GATlab.ThThinCategory.compose[NinthTestSuiteC()](f,g)\n"
   ]
  },
  {
   "cell_type": "code",
   "execution_count": 21,
   "metadata": {},
   "outputs": [
    {
     "data": {
      "text/plain": [
       "##docsink#421 (generic function with 0 methods)"
      ]
     },
     "metadata": {},
     "output_type": "display_data"
    }
   ],
   "source": [
    "# Test case for the tenth task of removing duplicate elements from a list.\n",
    "\n",
    "const TenthTestCase = TestCase{Vector{Int}, Vector{Int}} # Check if a given array is a palindrome\n",
    "\n",
    "example10 = TenthTestCase(([1,2,2,3,4,4]), [1,2,3,4])\n",
    "\n",
    "struct TenthTestSuiteC <: Model{Tuple{TenthTestCase, Tuple{TenthTestCase, TenthTestCase}}} end\n",
    "\n",
    "# Test suite model for tenth task\n",
    "# An object is valid, if it is a valid test case of the task, i.e. if input list converted to a set is equal to expected output list converted to set.\n",
    "# A morphism is a tuple of domain and codomain test cases. It is valid if list of domain input is a subset of list of codomain input.  \n",
    "# Composition of morphisms is valid, if codomain of the first morphism matches the domain of the second morphism.\n",
    "\n",
    "@instance GATlab.ThThinCategory{TenthTestCase, Tuple{TenthTestCase, TenthTestCase}} [model::TenthTestSuiteC] begin\n",
    "    Ob(x::TenthTestCase) = Set(x.input) == Set(x.expectedOutput) ? x : @fail \"Invalid object\"\n",
    "\n",
    "    function Hom(f::Tuple{TenthTestCase, TenthTestCase}, dom::TenthTestCase, codom::TenthTestCase)\n",
    "        dom_input = f[1].input\n",
    "        codom_input = f[2].input\n",
    "\n",
    "        if issubset(Set(dom_input), Set(codom_input))\n",
    "            return f\n",
    "        end\n",
    "\n",
    "        @fail \"Invalid morphism\"\n",
    "    end\n",
    "\n",
    "    id(x::TenthTestCase) = (x, x)\n",
    "\n",
    "    compose(f::Tuple{TenthTestCase, TenthTestCase}, g::Tuple{TenthTestCase, TenthTestCase}) = f[2] == g[1] ? (f[1], g[2]) : @fail \"Invalid composition\"\n",
    "\n",
    "    dom(f::Tuple{TenthTestCase, TenthTestCase}) = f[1]\n",
    "\n",
    "    codom(f::Tuple{TenthTestCase, TenthTestCase}) = f[2]\n",
    "end"
   ]
  },
  {
   "cell_type": "code",
   "execution_count": 22,
   "metadata": {},
   "outputs": [
    {
     "name": "stdout",
     "output_type": "stream",
     "text": [
      "TestCase{Vector"
     ]
    },
    {
     "name": "stdout",
     "output_type": "stream",
     "text": [
      "{Int64}, Vector{Int64}}([1], [1])TestCase{Vector{Int64}, Vector{Int64}}([1, 1, 2], [1, 2])"
     ]
    }
   ],
   "source": [
    "# Example test cases in the test suite of the tenth task\n",
    "\n",
    "a = GATlab.ThThinCategory.Ob[TenthTestSuiteC()](TenthTestCase([1], [1]))\n",
    "b = GATlab.ThThinCategory.Ob[TenthTestSuiteC()](TenthTestCase([1,1], [1]))\n",
    "c = GATlab.ThThinCategory.Ob[TenthTestSuiteC()](TenthTestCase([1,1,2], [1,2]))\n",
    "\n",
    "f = GATlab.ThThinCategory.Hom[TenthTestSuiteC()]((a,b),a,b)\n",
    "g = GATlab.ThThinCategory.Hom[TenthTestSuiteC()]((b,c),b,c)\n",
    "\n",
    "id = GATlab.ThThinCategory.id[TenthTestSuiteC()](a)\n",
    "\n",
    "composition = GATlab.ThThinCategory.compose[TenthTestSuiteC()](f,g)\n",
    "\n",
    "dom = GATlab.ThThinCategory.dom[TenthTestSuiteC()](composition)\n",
    "codom = GATlab.ThThinCategory.codom[TenthTestSuiteC()](composition)\n",
    "\n",
    "show(dom)\n",
    "show(codom)"
   ]
  },
  {
   "cell_type": "code",
   "execution_count": 23,
   "metadata": {},
   "outputs": [
    {
     "data": {
      "text/plain": [
       "get_random (generic function with 1 method)"
      ]
     },
     "metadata": {},
     "output_type": "display_data"
    }
   ],
   "source": [
    "# Function that represents a random selection of an element from a vector.\n",
    "\n",
    "function get_random(vector::Vector{T}) where T\n",
    "    if isempty(vector)\n",
    "        return Nothing\n",
    "    end\n",
    "\n",
    "    index = rand(1:length(vector))\n",
    "    return vector[index]\n",
    "end"
   ]
  },
  {
   "cell_type": "code",
   "execution_count": 24,
   "metadata": {},
   "outputs": [
    {
     "data": {
      "text/plain": [
       "##docsink#434 (generic function with 0 methods)"
      ]
     },
     "metadata": {},
     "output_type": "display_data"
    }
   ],
   "source": [
    "# Model of test case sampler.\n",
    "# Object is defined as a random selection of a test case from a list of possible test cases.\n",
    "# Morphism is defined as a transition from one scope of possible test cases to another.\n",
    "\n",
    "struct TestCaseSamplerC{T<:Any} <: Model{Tuple{Vector{T}, Tuple{Vector{T}, Vector{T}}}} end\n",
    "\n",
    "@instance GATlab.ThThinCategory{Vector{T}, Tuple{Vector{T}, Vector{T}}} [model::TestCaseSamplerC{T}] where {T} begin\n",
    "    Ob(vector::Vector{T}) = :(get_random($vector))\n",
    "\n",
    "    Hom(f::Tuple{Vector{T}, Vector{T}}, dom::Vector{T}, codom::Vector{T}) = f\n",
    "\n",
    "    id(vector::Vector{T}) = (vector, vector)\n",
    "\n",
    "    compose(f::Tuple{Vector{T}, Vector{T}}, g::Tuple{Vector{T}, Vector{T}}) = Tuple(f[1], g[2])\n",
    "\n",
    "    dom(f::Tuple{Vector{T}, Vector{T}}) = :(get_random($(f[1])))\n",
    "\n",
    "    codom(f::Tuple{Vector{T}, Vector{T}}) = :(get_random($(f[2])))\n",
    "end"
   ]
  },
  {
   "cell_type": "code",
   "execution_count": 25,
   "metadata": {},
   "outputs": [
    {
     "data": {
      "text/plain": [
       "21-element Vector{FirstTestCase}:\n",
       " FirstTestCase((-10, -10, -10), -10)\n",
       " FirstTestCase((-9, -9, -9), -9)\n",
       " FirstTestCase((-8, -8, -8), -8)\n",
       " FirstTestCase((-7, -7, -7), -7)\n",
       " FirstTestCase((-6, -6, -6), -6)\n",
       " FirstTestCase((-5, -5, -5), -5)\n",
       " FirstTestCase((-4, -4, -4), -4)\n",
       " FirstTestCase((-3, -3, -3), -3)\n",
       " FirstTestCase((-2, -2, -2), -2)\n",
       " FirstTestCase((-1, -1, -1), -1)\n",
       " ⋮\n",
       " FirstTestCase((2, 2, 2), 2)\n",
       " FirstTestCase((3, 3, 3), 3)\n",
       " FirstTestCase((4, 4, 4), 4)\n",
       " FirstTestCase((5, 5, 5), 5)\n",
       " FirstTestCase((6, 6, 6), 6)\n",
       " FirstTestCase((7, 7, 7), 7)\n",
       " FirstTestCase((8, 8, 8), 8)\n",
       " FirstTestCase((9, 9, 9), 9)\n",
       " FirstTestCase((10, 10, 10), 10)"
      ]
     },
     "metadata": {},
     "output_type": "display_data"
    }
   ],
   "source": [
    "NumberLimit = 10\n",
    "\n",
    "# Function for initializing arbitrarely selected test cases for the first task.\n",
    "\n",
    "function initialize_testcases(limit::Int, condition::Function)\n",
    "    testcases = [FirstTestCase((i, j, k), max(i, j, k)) for i in -limit:limit, j in -limit:limit, k in -limit:limit if condition(i, j, k)]\n",
    "    return reduce(vcat,testcases)\n",
    "end\n",
    "\n",
    "testcases1 = initialize_testcases(NumberLimit, (i,j,k) -> (i != j && i != k && j != k))\n",
    "testcases2 = initialize_testcases(NumberLimit, (i,j,k) -> (count(x -> x == i, (i, j, k)) == 2 || count(x -> x == j, (i, j, k)) == 2 || count(x -> x == k, (i, j, k)) == 2))\n",
    "testcases3 = initialize_testcases(NumberLimit, (i,j,k) -> (i == j == k))"
   ]
  },
  {
   "cell_type": "code",
   "execution_count": 26,
   "metadata": {},
   "outputs": [
    {
     "data": {
      "text/plain": [
       "##docsink#447 (generic function with 0 methods)"
      ]
     },
     "metadata": {},
     "output_type": "display_data"
    }
   ],
   "source": [
    "# Function defined to filter a vector based on a given criteria. Criteria is defined a function that results in a boolean.\n",
    "\n",
    "function filter(vector::Vector{T}, criteria::Function) :: Vector{T} where {T}\n",
    "    new_vector = [x for x in vector if criteria(x)]\n",
    "    return length(new_vector) == 0 ? Vector{T}() : new_vector\n",
    "end\n",
    "\n",
    "filter_criteria = Function\n",
    "\n",
    "struct TestCaseSamplerC2{T<:TestCase} <: Model{Tuple{Vector{T}, Tuple{Vector{T}, Function}}} end\n",
    "\n",
    "# Second variant of model of test case test case sampler\n",
    "# Object is defined as a random selection of a test case from a list of possible test cases.\n",
    "# Morphism is defined as a filter of a vector by some criteria. The codomain of the morphism is a filtered version of the domain vector\n",
    "# Composition is defined as combination of criteria of two filters.\n",
    "# Identity morphism is defined as filter with criteria function that always results in true.\n",
    "\n",
    "@instance GATlab.ThCategory{Vector{T}, Tuple{Vector{T}, Function}} [model::TestCaseSamplerC2{T}] where {T} begin\n",
    "    Ob(vector::Vector{T}) = :(get_random($vector))\n",
    "\n",
    "    Hom(f::Tuple{Vector{T}, Function}, dom::Vector{T}, codom::Vector{T}) = filter(f[1], f[2]::Function) == codom ? (f[1],f[2]) : @fail \"Invalid morphism\"\n",
    "\n",
    "    id(vector::Vector{T}) = (vector, ((x) -> true)::Function)\n",
    "\n",
    "    compose(f::Tuple{Vector{T}, Function}, g::Tuple{Vector{T}, Function}) = filter(f[1], f[2]::Function) == g[1] ? (f[1], (x) -> f[2](x) && g[2](x) ) : @fail \"Invalid composition\"\n",
    "\n",
    "    dom(f::Tuple{Vector{T}, Function}) = :(get_random($(f[1])))\n",
    "\n",
    "    codom(f::Tuple{Vector{T}, Function}) = :(get_random($(filter(f[1],f[2]::Function))))\n",
    "end"
   ]
  },
  {
   "cell_type": "code",
   "execution_count": 109,
   "metadata": {},
   "outputs": [
    {
     "data": {
      "text/plain": [
       "generate_morphisms (generic function with 3 methods)"
      ]
     },
     "metadata": {},
     "output_type": "display_data"
    }
   ],
   "source": [
    "# Generation of test cases by evaluating the expression of sampler object\n",
    "\n",
    "function generate_objects!(testsuitemodel_objects::Vector, sampler_object, count::Int, test_suite_symbol::Symbol)\n",
    "    for i in 1:count\n",
    "        sampled_testcase = eval(sampler_object)\n",
    "\n",
    "        if sampled_testcase in testsuitemodel_objects\n",
    "            i = i - 1\n",
    "        else\n",
    "            push!(testsuitemodel_objects, GATlab.ThThinCategory.Ob[eval(test_suite_symbol)()](sampled_testcase))\n",
    "        end\n",
    "    end\n",
    "end\n",
    "\n",
    "\n",
    "# Generating all morphisms in the model of test suite\n",
    "\n",
    "function generate_morphisms(objects::Vector, test_suite_symbol::Symbol, test_case_symbol::Symbol)\n",
    "    morphisms = []\n",
    "\n",
    "    for i in 1:length(objects)\n",
    "        for j in i:length(objects)\n",
    "            if i != j\n",
    "                try\n",
    "                    new_morphism1 = GATlab.ThThinCategory.Hom[eval(test_suite_symbol)()]((objects[i],objects[j])::Tuple{eval(test_case_symbol), eval(test_case_symbol)}, objects[i], objects[j])\n",
    "                    morphisms = in(new_morphism1, morphisms) ? morphisms : push!(morphisms, new_morphism1)\n",
    "                catch\n",
    "                end\n",
    "\n",
    "                try\n",
    "                    new_morphism2 = GATlab.ThThinCategory.Hom[eval(test_suite_symbol)()]((objects[j],objects[i])::Tuple{eval(test_case_symbol), eval(test_case_symbol)}, objects[j], objects[i])\n",
    "                    morphisms = in(new_morphism2, morphisms) ? morphisms : push!(morphisms, new_morphism2)\n",
    "                catch\n",
    "                end\n",
    "            else\n",
    "                push!(morphisms, GATlab.ThThinCategory.id[eval(test_suite_symbol)()](objects[i]))\n",
    "            end\n",
    "        end\n",
    "    end\n",
    "\n",
    "    return morphisms\n",
    "end"
   ]
  },
  {
   "cell_type": "code",
   "execution_count": 84,
   "metadata": {},
   "outputs": [
    {
     "data": {
      "text/plain": [
       "14-element Vector{Any}:\n",
       " (FirstTestCase((-7, -9, -7), -7), FirstTestCase((-7, -9, -7), -7))\n",
       " (FirstTestCase((0, -3, 9), 9), FirstTestCase((0, -3, 9), 9))\n",
       " (FirstTestCase((1, 0, 2), 2), FirstTestCase((1, 0, 2), 2))\n",
       " (FirstTestCase((-2, -2, -2), -2), FirstTestCase((-2, -2, -2), -2))\n",
       " (FirstTestCase((-4, -4, -4), -4), FirstTestCase((-4, -4, -4), -4))\n",
       " (FirstTestCase((2, 2, 2), 2), FirstTestCase((2, 2, 2), 2))\n",
       " (FirstTestCase((10, 10, 10), 10), FirstTestCase((10, 10, 10), 10))\n",
       " (FirstTestCase((3, 3, 3), 3), FirstTestCase((3, 3, 3), 3))\n",
       " (FirstTestCase((10, 10, 7), 10), FirstTestCase((10, 10, 7), 10))\n",
       " (FirstTestCase((-2, -2, -3), -2), FirstTestCase((-2, -2, -3), -2))\n",
       " (FirstTestCase((9, 9, 7), 9), FirstTestCase((9, 9, 7), 9))\n",
       " (FirstTestCase((3, 8, 6), 8), FirstTestCase((3, 8, 6), 8))\n",
       " (FirstTestCase((2, -8, -4), 2), FirstTestCase((2, -8, -4), 2))\n",
       " (FirstTestCase((-3, 1, 10), 10), FirstTestCase((-3, 1, 10), 10))"
      ]
     },
     "metadata": {},
     "output_type": "display_data"
    }
   ],
   "source": [
    "# Generation of test suite for first task. Test cases are divided into few groups. Where are elements are the same, where there are two equal elements, where all elements are different. Additional group with positive integers is selected.\n",
    "\n",
    "initial_testcases = initialize_testcases(10, (x,y,z) -> true)\n",
    "all_same = filter(initial_testcases, (x) -> length(Set(x.input)) == 1)\n",
    "all_same_positive = filter(all_same, (x) -> x.input[1] > 0)\n",
    "\n",
    "two_same = filter(initial_testcases, (x) -> length(Set(x.input)) == 2)\n",
    "\n",
    "all_different = filter(initial_testcases, (x) -> length(Set(x.input)) == 3)\n",
    "\n",
    "terminal_testcases = filter(all_same, (x) -> false)\n",
    "\n",
    "initial = GATlab.ThCategory.Ob[TestCaseSamplerC2{FirstTestCase}()](initial_testcases)\n",
    "\n",
    "filtered_objects1 = GATlab.ThCategory.Ob[TestCaseSamplerC2{FirstTestCase}()](all_same)\n",
    "filtered_objects2 = GATlab.ThCategory.Ob[TestCaseSamplerC2{FirstTestCase}()](all_same_positive)\n",
    "\n",
    "filtered_objects3 = GATlab.ThCategory.Ob[TestCaseSamplerC2{FirstTestCase}()](two_same)\n",
    "filtered_objects4 = GATlab.ThCategory.Ob[TestCaseSamplerC2{FirstTestCase}()](all_different)\n",
    "\n",
    "terminal = GATlab.ThCategory.Ob[TestCaseSamplerC2{FirstTestCase}()](terminal_testcases)\n",
    "\n",
    "f = GATlab.ThCategory.Hom[TestCaseSamplerC2{FirstTestCase}()]((initial_testcases, (x) -> x.input[1] == x.input[2] == x.input[3]), initial_testcases, all_same)\n",
    "g = GATlab.ThCategory.Hom[TestCaseSamplerC2{FirstTestCase}()]((all_same, (x) -> x.input[1] > 0), all_same, all_same_positive)\n",
    "\n",
    "h = GATlab.ThCategory.Hom[TestCaseSamplerC2{FirstTestCase}()]((initial_testcases, (x) -> (x.input[1] == x.input[2] != x.input[3]) ||  (x.input[1] == x.input[3] != x.input[2]) || (x.input[2] == x.input[3] != x.input[1])), initial_testcases, two_same)\n",
    "id = GATlab.ThCategory.id[TestCaseSamplerC2{FirstTestCase}()](initial_testcases)\n",
    "\n",
    "e = GATlab.ThCategory.Hom[TestCaseSamplerC2{FirstTestCase}()]((initial_testcases, (x) -> (x.input[1] != x.input[2]) && ( x.input[1] != x.input[3]) && (x.input[2] != x.input[3])), initial_testcases, all_different)\n",
    "\n",
    "comp = GATlab.ThCategory.compose[TestCaseSamplerC2{FirstTestCase}()](f,g)\n",
    "\n",
    "codom = GATlab.ThCategory.codom[TestCaseSamplerC2{FirstTestCase}()](e)\n",
    "\n",
    "model_objects = []\n",
    "\n",
    "generate_objects!(model_objects, initial, 3, nameof(FirstTestSuiteC))\n",
    "generate_objects!(model_objects, filtered_objects1, 3, nameof(FirstTestSuiteC))\n",
    "generate_objects!(model_objects, filtered_objects2, 3, nameof(FirstTestSuiteC))\n",
    "generate_objects!(model_objects, filtered_objects3, 3, nameof(FirstTestSuiteC))\n",
    "generate_objects!(model_objects, filtered_objects4, 3, nameof(FirstTestSuiteC))\n",
    "\n",
    "model_objects\n",
    "morphisms = generate_morphisms(model_objects, nameof(FirstTestSuiteC), nameof(FirstTestCase))\n",
    "\n",
    "morphisms\n"
   ]
  },
  {
   "cell_type": "code",
   "execution_count": 125,
   "metadata": {},
   "outputs": [
    {
     "name": "stdout",
     "output_type": "stream",
     "text": [
      "10(10, -8)2\n",
      "2(2, 8)10\n",
      "10(10, 2)12\n",
      "12(12, -2)10\n",
      "10(10, -22)-12\n",
      "-12(-12, 22)10\n",
      "10(10, 14)24\n",
      "24(24, -14)10\n",
      "10(10, -48)-38\n",
      "-38(-38, 48)10\n",
      "10(10, -44)-34\n",
      "-34(-34, 44)10\n",
      "10(10, -4)6\n",
      "6(6, 4)10\n",
      "10(10, 24)34\n",
      "34(34, -24)10\n",
      "2(2, 10)12\n",
      "12(12, -10)2\n",
      "2(2, -14)-12\n",
      "-12(-12, 14)2\n",
      "2(2, 22)24\n",
      "24(24, -22)2\n",
      "2(2, -40)-38\n",
      "-38(-38, 40)2\n",
      "2(2, -36)-34\n",
      "-34(-34, 36)2\n",
      "2(2, 4)6\n",
      "6(6, -4)2\n",
      "2(2, 32)34\n",
      "34(34, -32)2\n",
      "12(12, -24)-12\n",
      "-12(-12, 24)12\n",
      "12(12, 12)24\n",
      "24(24, -12)12\n",
      "12(12, -50)-38\n",
      "-38(-38, 50)12\n",
      "12(12, -46)-34\n",
      "-34(-34, 46)12\n",
      "12(12, -6)6\n",
      "6(6, 6)12\n",
      "12(12, 22)34\n",
      "34(34, -22)12\n",
      "-12(-12, 36)24\n",
      "24(24, -36)-12\n",
      "-12(-12, -26)-38\n",
      "-38(-38, 26)-12\n",
      "-12(-12, -22)-34\n",
      "-34(-34, 22)-12\n",
      "-12(-12, 18)6\n",
      "6(6, -18)-12\n",
      "-12(-12, 46)34\n",
      "34(34, -46)-12\n",
      "24(24, -62)-38\n",
      "-38(-38, 62)24\n",
      "24(24, -58)-34\n",
      "-34(-34, 58)24\n",
      "24(24, -18)6\n",
      "6(6, 18)24\n",
      "24(24, 10)34\n",
      "34(34, -10)24\n",
      "-38(-38, 4)-34\n",
      "-34(-34, -4)-38\n",
      "-38(-38, 44)6\n",
      "6(6, -44)-38\n",
      "-38(-38, 72)34\n",
      "34(34, -72)-38\n",
      "-34(-34, 40)6\n",
      "6(6, -40)-34\n",
      "-34(-34, 68)34\n",
      "34(34, -68)-34\n",
      "6(6, 28)34\n",
      "34(34, -28)6\n",
      "25(25, 20)45\n",
      "45(45, -20)25\n",
      "25(25, 10)35\n",
      "35(35, -10)25\n",
      "25(25, -18)7\n",
      "7(7, 18)25\n",
      "25(25, -16)9\n",
      "9(9, 16)25\n",
      "25(25, -8)17\n",
      "17(17, 8)25\n",
      "25(25, -2)23\n",
      "23(23, 2)25\n",
      "25(25, 16)41\n",
      "41(41, -16)25\n",
      "25(25, 18)43\n",
      "43(43, -18)25\n",
      "45(45, -10)35\n",
      "35(35, 10)45\n",
      "45(45, -38)7\n",
      "7(7, 38)45\n",
      "45(45, -36)9\n",
      "9(9, 36)45\n",
      "45(45, -28)17\n",
      "17(17, 28)45\n",
      "45(45, -22)23\n",
      "23(23, 22)45\n",
      "45(45, -4)41\n",
      "41(41, 4)45\n",
      "45(45, -2)43\n",
      "43(43, 2)45\n",
      "35(35, -28)7\n",
      "7(7, 28)35\n",
      "35(35, -26)9\n",
      "9(9, 26)35\n",
      "35(35, -18)17\n",
      "17(17, 18)35\n",
      "35(35, -12)23\n",
      "23(23, 12)35\n",
      "35(35, 6)41\n",
      "41(41, -6)35\n",
      "35(35, 8)43\n",
      "43(43, -8)35\n",
      "7(7, 2)9\n",
      "9(9, -2)7\n",
      "7(7, 10)17\n",
      "17(17, -10)7\n",
      "7(7, 16)23\n",
      "23(23, -16)7\n",
      "7(7, 34)41\n",
      "41(41, -34)7\n",
      "7(7, 36)43\n",
      "43(43, -36)7\n",
      "9(9, 8)17\n",
      "17(17, -8)9\n",
      "9(9, 14)23\n",
      "23(23, -14)9\n",
      "9(9, 32)41\n",
      "41(41, -32)9\n",
      "9(9, 34)43\n",
      "43(43, -34)9\n",
      "17(17, 6)23\n",
      "23(23, -6)17\n",
      "17(17, 24)41\n",
      "41(41, -24)17\n",
      "17(17, 26)43\n",
      "43(43, -26)17\n",
      "23(23, 18)41\n",
      "41(41, -18)23\n",
      "23(23, 20)43\n",
      "43(43, -20)23\n",
      "41(41, 2)43\n",
      "43(43, -2)41\n"
     ]
    }
   ],
   "source": [
    "# Test suite for second task. Test cases are grouped into 2 groups: one for even numbers as inputs and other for odd numbers for inputs.\n",
    "\n",
    "function initialize_testcases2(limit::Int)\n",
    "    testcases = [SecondTestCase(i, i % 2 == 0 ? 1 : 0) for i in -limit:limit]\n",
    "    return reduce(vcat,testcases)\n",
    "end\n",
    "\n",
    "# Morphisms for objects of second task because model of second task test suite has different morphisms.\n",
    "function generate_morphisms2(objects::Vector)\n",
    "    morphisms = []\n",
    "\n",
    "    for i in 1:length(objects)\n",
    "        for j in i:length(objects)\n",
    "            if i != j\n",
    "                new_morphism1 = (objects[i].input, objects[j].input - objects[i].input)\n",
    "                new_morphism2 = (objects[j].input, objects[i].input - objects[j].input)\n",
    "\n",
    "                try\n",
    "                    morphisms = in(new_morphism1, morphisms) ? morphisms : push!(morphisms, GATlab.ThThinCategory.Hom[SecondTestSuiteC()](new_morphism1, objects[i], objects[j]))\n",
    "                catch\n",
    "                end\n",
    "                try\n",
    "                    morphisms = in(new_morphism2, morphisms) ? morphisms : push!(morphisms, GATlab.ThThinCategory.Hom[SecondTestSuiteC()](new_morphism2, objects[j], objects[i]))\n",
    "                catch\n",
    "                end\n",
    "            else\n",
    "                GATlab.ThThinCategory.id[SecondTestSuiteC()](objects[i])\n",
    "            end\n",
    "        end\n",
    "    end\n",
    "\n",
    "    return morphisms\n",
    "end\n",
    "\n",
    "initial_testcases = initialize_testcases2(50)\n",
    "\n",
    "even = filter(initial_testcases, (x) -> x.input % 2 == 0)\n",
    "odd = filter(initial_testcases, (x) -> x.input % 2 == 1)\n",
    "\n",
    "even_ob = GATlab.ThCategory.Ob[TestCaseSamplerC2{SecondTestCase}()](even)\n",
    "odd_ob = GATlab.ThCategory.Ob[TestCaseSamplerC2{SecondTestCase}()](odd)\n",
    "\n",
    "f = GATlab.ThCategory.Hom[TestCaseSamplerC2{SecondTestCase}()]((initial_testcases, (x) -> x.input % 2 == 0), initial_testcases, even)\n",
    "g = GATlab.ThCategory.Hom[TestCaseSamplerC2{SecondTestCase}()]((initial_testcases, (x) -> x.input % 2 == 1), initial_testcases, odd)\n",
    "\n",
    "codom = GATlab.ThCategory.codom[TestCaseSamplerC2{SecondTestCase}()](g)\n",
    "\n",
    "model_objects = []\n",
    "\n",
    "generate_objects!(model_objects, even_ob, 10, nameof(SecondTestSuiteC))\n",
    "generate_objects!(model_objects, odd_ob, 10, nameof(SecondTestSuiteC))\n",
    "\n",
    "morphisms = generate_morphisms2(model_objects)\n",
    "\n",
    "for i in 1:length(morphisms)\n",
    "    print(GATlab.ThThinCategory.dom[SecondTestSuiteC()](morphisms[i]))\n",
    "    print(morphisms[i])\n",
    "    print(GATlab.ThThinCategory.codom[SecondTestSuiteC()](morphisms[i]))\n",
    "    println()\n",
    "end\n",
    "# model_objects\n",
    "# eval(even_ob)"
   ]
  }
 ],
 "metadata": {
  "kernelspec": {
   "display_name": "Julia 1.9.4",
   "language": "julia",
   "name": "julia-1.9"
  },
  "language_info": {
   "file_extension": ".jl",
   "mimetype": "application/julia",
   "name": "julia",
   "version": "1.9.4"
  }
 },
 "nbformat": 4,
 "nbformat_minor": 2
}
